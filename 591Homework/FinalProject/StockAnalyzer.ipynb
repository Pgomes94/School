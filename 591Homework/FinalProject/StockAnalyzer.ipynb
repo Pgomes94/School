{
 "cells": [
  {
   "cell_type": "markdown",
   "metadata": {},
   "source": [
    "\n",
    "# CS591 Final Project - Stock Market Analysis"
   ]
  },
  {
   "cell_type": "markdown",
   "metadata": {},
   "source": [
    "## Scrape Stock Information"
   ]
  },
  {
   "cell_type": "code",
   "execution_count": 1,
   "metadata": {
    "collapsed": false
   },
   "outputs": [],
   "source": [
    "from pandas import DataFrame\n",
    "from pandas import Series\n",
    "from urllib import urlopen\n",
    "from bs4 import BeautifulSoup\n",
    "from sklearn.preprocessing import normalize as norm\n",
    "import numpy as np\n",
    "import matplotlib.pyplot as plt\n",
    "from sklearn import datasets, linear_model, preprocessing\n",
    "import statsmodels.formula.api as sm\n",
    "\n",
    "base_url = \"http://finance.yahoo.com\"\n",
    "end_url = \"+Historical+Prices\"\n",
    "allStockSymbols = {}\n",
    "df = DataFrame(columns=['Date','Open','High','Low','Close','Volume','Adjusted Close'])\n",
    "numDaysInJan = 31\n",
    "numDaysInFeb = 29"
   ]
  },
  {
   "cell_type": "code",
   "execution_count": 2,
   "metadata": {
    "collapsed": false
   },
   "outputs": [],
   "source": [
    "'''\n",
    "    Makes a dictionary of all stock symbols to check the inputted stock versus\n",
    "'''\n",
    "stocklists = open('companylist.csv')\n",
    "firstLine = True\n",
    "for line in stocklists:\n",
    "    if firstLine == True:\n",
    "        firstLine = False\n",
    "        pass\n",
    "    allStockSymbols[line.split(',')[0]] = True\n",
    "stocklists.close()\n",
    "stocklists = open('companylist1.csv')\n",
    "firstLine = True\n",
    "for line in stocklists:\n",
    "    if firstLine == True:\n",
    "        firstLine = False\n",
    "        pass\n",
    "    allStockSymbols[line.split(',')[0]] = True\n",
    "stocklists.close()\n",
    "stocklists = open('companylist2.csv')\n",
    "firstLine = True\n",
    "for line in stocklists:\n",
    "    if firstLine == True:\n",
    "        firstLine = False\n",
    "        pass\n",
    "    allStockSymbols[line.split(',')[0]] = True\n",
    "stocklists.close()\n",
    "stocklists = open('nasdaqlisted.txt')\n",
    "firstLine = True\n",
    "for line in stocklists:\n",
    "    if firstLine == True:\n",
    "        firstLine = False\n",
    "        pass\n",
    "    allStockSymbols[line.split('|')[0]] = True\n",
    "stocklists.close()\n",
    "stocklists = open('otherlisted.txt')\n",
    "firstLine = True\n",
    "for line in stocklists:\n",
    "    if firstLine == True:\n",
    "        firstLine = False\n",
    "        pass\n",
    "    symbol = line.split('|')[0]\n",
    "    if \"$\" in symbol:\n",
    "        pass\n",
    "    else:\n",
    "        allStockSymbols[symbol] = True\n",
    "stocklists.close()"
   ]
  },
  {
   "cell_type": "code",
   "execution_count": 3,
   "metadata": {
    "collapsed": false
   },
   "outputs": [
    {
     "name": "stdout",
     "output_type": "stream",
     "text": [
      "Please enter the stock symbol you are interested about in quotes.\n",
      "\"AAPL\"\n"
     ]
    }
   ],
   "source": [
    "'''\n",
    "    Get the symbol of the stock we are gathering data on.\n",
    "'''\n",
    "stock_symbol = input(\"Please enter the stock symbol you are interested about in quotes.\\n\")\n",
    "while stock_symbol not in allStockSymbols:\n",
    "    print(\"ERROR: NOT VALID STOCK SYMBOL, TRY AGAIN\")\n",
    "    stock_symbol = input(\"Please enter the stock symbol you are interested about in quotes.\\n\")"
   ]
  },
  {
   "cell_type": "code",
   "execution_count": 4,
   "metadata": {
    "collapsed": false
   },
   "outputs": [],
   "source": [
    "def extractInformation(htmlSource):\n",
    "    soup = BeautifulSoup(htmlSource, \"lxml\")\n",
    "    table = soup.find(class_=\"yfnc_datamodoutline1\").find(\"table\")\n",
    "    tableContents = table.findAll(\"tr\")\n",
    "    for i in range(1, len(tableContents)-1):\n",
    "        rowContents = tableContents[i].contents\n",
    "        rowData = []\n",
    "        for rowContent in rowContents:\n",
    "            rowData.append(rowContent.contents[0])\n",
    "        if len(rowData) < 7:\n",
    "            pass\n",
    "        else:\n",
    "            df.loc[len(df)] = rowData\n",
    "    return soup.find(rel=\"next\")"
   ]
  },
  {
   "cell_type": "code",
   "execution_count": 5,
   "metadata": {
    "collapsed": false
   },
   "outputs": [],
   "source": [
    "nextPage = {'href' : \"/q/hp?s=\" + stock_symbol+end_url}\n",
    "first = True\n",
    "while nextPage is not None:\n",
    "    url = base_url + nextPage['href']\n",
    "    htmlSource = urlopen(url)\n",
    "    nextPage = extractInformation(htmlSource)"
   ]
  },
  {
   "cell_type": "markdown",
   "metadata": {},
   "source": [
    "## Predicting Stock's Quarter based on previous years patterns"
   ]
  },
  {
   "cell_type": "code",
   "execution_count": 6,
   "metadata": {
    "collapsed": false
   },
   "outputs": [],
   "source": [
    "'''\n",
    "    Separate the data for the first 3 months by years\n",
    "'''\n",
    "janData = []\n",
    "febData = []\n",
    "marchData = []\n",
    "iterrows = df.iterrows()\n",
    "for i, row in iterrows:\n",
    "    if 'Jan' in row['Date']:\n",
    "        janData.append(row)\n",
    "    if 'Feb' in row['Date']:\n",
    "        febData.append(row)\n",
    "    if 'Mar' in row['Date']:\n",
    "        marchData.append(row)"
   ]
  },
  {
   "cell_type": "code",
   "execution_count": 7,
   "metadata": {
    "collapsed": false
   },
   "outputs": [],
   "source": [
    "'''\n",
    "    Separate all the data by months\n",
    "'''\n",
    "i = 0\n",
    "while \"2015\" not in janData[i]['Date'] :\n",
    "    i = i + 1\n",
    "jan2016 = janData[0:i]\n",
    "olderJan = []\n",
    "year = 2014\n",
    "oldI = i\n",
    "while i < len(janData):\n",
    "    if str(year) in janData[i]['Date']:\n",
    "        olderJan.append(janData[oldI:i])\n",
    "        oldI = i\n",
    "        year = year-1\n",
    "    i = i + 1\n",
    "olderJan.append(janData[oldI:i])\n",
    "\n",
    "i = 0\n",
    "while \"2015\" not in febData[i]['Date'] :\n",
    "    i = i + 1\n",
    "feb2016 = febData[0:i]\n",
    "olderFeb = []\n",
    "year = 2014\n",
    "oldI = i\n",
    "while i < len(febData):\n",
    "    if str(year) in febData[i]['Date']:\n",
    "        olderFeb.append(febData[oldI:i])\n",
    "        oldI = i\n",
    "        year = year-1\n",
    "    i = i + 1\n",
    "olderFeb.append(febData[oldI:i])\n",
    "    \n",
    "i = 0\n",
    "while \"2015\" not in marchData[i]['Date'] :\n",
    "    i = i + 1\n",
    "march2016 = marchData[0:i]\n",
    "olderMarch = []\n",
    "year = 2014\n",
    "oldI = i\n",
    "while i < len(marchData):\n",
    "    if str(year) in marchData[i]['Date']:\n",
    "        olderMarch.append(marchData[oldI:i])\n",
    "        oldI = i\n",
    "        year = year-1\n",
    "    i = i + 1\n",
    "olderMarch.append(marchData[oldI:i])\n",
    "\n",
    "'''\n",
    "    Even out the number of months in each list\n",
    "        Needed in case a company started in february or march and the data would be uneven.\n",
    "'''\n",
    "if len(olderMarch) > len(olderFeb):\n",
    "    del olderMarch[-1]\n",
    "elif len(olderFeb) > len(olderJan):\n",
    "    del olderFeb[-1]\n",
    "    del olderMarch[-1]"
   ]
  },
  {
   "cell_type": "code",
   "execution_count": 8,
   "metadata": {
    "collapsed": false
   },
   "outputs": [],
   "source": [
    "'''\n",
    "    Normalize the data for each month and put it in order from first day of the month open, high, low, close \n",
    "    until the last day of the month\n",
    "'''\n",
    "def formatDataList(dataList):\n",
    "    initList = []\n",
    "    outputList = []\n",
    "    for month in dataList:\n",
    "        monthInfo = []\n",
    "        for entry in month:\n",
    "            monthInfo.append(float(entry['Close']))\n",
    "            monthInfo.append(float(entry['Low']))\n",
    "            monthInfo.append(float(entry['High']))\n",
    "            monthInfo.append(float(entry['Open']))\n",
    "        initList.append(norm(np.fliplr(np.asarray(monthInfo).reshape(1,-1)))[0])\n",
    "    return initList[::-1]\n",
    "\n",
    "def getMonthDates(dataList):\n",
    "    initList = []\n",
    "    outputList = []\n",
    "    for month in dataList:\n",
    "        monthDates = []\n",
    "        for entry in month:\n",
    "            monthDates.append(int(entry['Date'].split()[1][0:-1])) # grab only the number portion of the date\n",
    "        initList.append(np.asarray(monthDates)[::-1])\n",
    "    return initList[::-1]\n",
    "\n",
    "janMonthInfo = formatDataList(olderJan)\n",
    "janDates = getMonthDates(olderJan)\n",
    "febMonthInfo = formatDataList(olderFeb)\n",
    "febDates = getMonthDates(olderFeb)\n",
    "marMonthInfo = formatDataList(olderMarch)\n",
    "marDates = getMonthDates(olderMarch)"
   ]
  },
  {
   "cell_type": "code",
   "execution_count": 9,
   "metadata": {
    "collapsed": false
   },
   "outputs": [
    {
     "data": {
      "text/plain": [
       "'\\n    Ideas and Plan:\\n        Linear regression on open prices for each month\\n            take all the regressions for a month and combine them into one\\n            3 regressions at the end, use to predict behavior of the stock in 3 intervals\\n        \\n        calculate a variance/fluctuation/error for each month\\n            High-low = range\\n            range/open price gives us a fluctuation percentage for a day\\n            average fluction = summation of all fluctuation percentages divided by the length of the month list\\n            average across all years\\n        \\n        find highest and lowest value for the month\\n            compare to open price to get the lowest and highest deviation percentage\\n            average across all years to get average deviation from start of month\\n'"
      ]
     },
     "execution_count": 9,
     "metadata": {},
     "output_type": "execute_result"
    }
   ],
   "source": [
    "'''\n",
    "    Ideas and Plan:\n",
    "        Linear regression on open prices for each month\n",
    "            take all the regressions for a month and combine them into one\n",
    "            3 regressions at the end, use to predict behavior of the stock in 3 intervals\n",
    "        \n",
    "        calculate a variance/fluctuation/error for each month\n",
    "            High-low = range\n",
    "            range/open price gives us a fluctuation percentage for a day\n",
    "            average fluction = summation of all fluctuation percentages divided by the length of the month list\n",
    "            average across all years\n",
    "        \n",
    "        find highest and lowest value for the month\n",
    "            compare to open price to get the lowest and highest deviation percentage\n",
    "            average across all years to get average deviation from start of month\n",
    "'''"
   ]
  },
  {
   "cell_type": "code",
   "execution_count": 10,
   "metadata": {
    "collapsed": false
   },
   "outputs": [],
   "source": [
    "'''\n",
    "    Information parsing for each month\n",
    "'''\n",
    "\n",
    "# January parsing\n",
    "janOpenPrices = []\n",
    "janMonthFluctuations = []\n",
    "janDeviationPercentage = []\n",
    "for month in janMonthInfo:\n",
    "    i = 0\n",
    "    highest = 0.0\n",
    "    lowest = 1.0\n",
    "    fluctuation = 0.0\n",
    "    opens = []\n",
    "    while i < len(month):\n",
    "        opens.append(month[i])\n",
    "        if highest < month[i+1]:\n",
    "            highest = month[i+1]\n",
    "        if lowest > month[i+2]:\n",
    "            lowest = month[i+2]\n",
    "        fluctuation = fluctuation + (month[i+1] - month[i+2])/month[i] # (high - low) / open\n",
    "        i = i + 4\n",
    "    janOpenPrices.append(opens)\n",
    "    janMonthFluctuations.append(fluctuation/len(month))\n",
    "    janDeviationPercentage.append((highest/month[0], lowest/month[0]))\n",
    "\n",
    "janFluctuation = np.mean(janMonthFluctuations)\n",
    "h = 0.0\n",
    "l = 0.0\n",
    "for high, low in janDeviationPercentage:\n",
    "    h = h + high\n",
    "    l = l + low\n",
    "janDeviation = (h/len(janDeviationPercentage), l/len(janDeviationPercentage))\n",
    "\n",
    "#Information parsing for February\n",
    "febOpenPrices = []\n",
    "febMonthFluctuations = []\n",
    "febDeviationPercentage = []\n",
    "for month in febMonthInfo:\n",
    "    i = 0\n",
    "    highest = 0.0\n",
    "    lowest = 1.0\n",
    "    fluctuation = 0.0\n",
    "    opens = []\n",
    "    while i < len(month):\n",
    "        opens.append(month[i])\n",
    "        if highest < month[i+1]:\n",
    "            highest = month[i+1]\n",
    "        if lowest > month[i+2]:\n",
    "            lowest = month[i+2]\n",
    "        fluctuation = fluctuation + (month[i+1] - month[i+2])/month[i] # (high - low) / open\n",
    "        i = i + 4\n",
    "    febOpenPrices.append(opens)\n",
    "    febMonthFluctuations.append(fluctuation/len(month))\n",
    "    febDeviationPercentage.append((highest/month[0], lowest/month[0]))\n",
    "\n",
    "febFluctuation = np.mean(febMonthFluctuations)\n",
    "h = 0.0\n",
    "l = 0.0\n",
    "for high, low in febDeviationPercentage:\n",
    "    h = h + high\n",
    "    l = l + low\n",
    "febDeviation = (h/len(febDeviationPercentage), l/len(febDeviationPercentage))\n",
    "\n",
    "#Information parsing for March\n",
    "marOpenPrices = []\n",
    "marMonthFluctuations = []\n",
    "marDeviationPercentage = []\n",
    "for month in marMonthInfo:\n",
    "    i = 0\n",
    "    highest = 0.0\n",
    "    lowest = 1.0\n",
    "    fluctuation = 0.0\n",
    "    opens = []\n",
    "    while i < len(month):\n",
    "        opens.append(month[i])\n",
    "        if highest < month[i+1]:\n",
    "            highest = month[i+1]\n",
    "        if lowest > month[i+2]:\n",
    "            lowest = month[i+2]\n",
    "        fluctuation = fluctuation + (month[i+1] - month[i+2])/month[i] # (high - low) / open\n",
    "        i = i + 4\n",
    "    marOpenPrices.append(opens)\n",
    "    marMonthFluctuations.append(fluctuation/len(month))\n",
    "    marDeviationPercentage.append((highest/month[0], lowest/month[0]))\n",
    "\n",
    "marFluctuation = np.mean(marMonthFluctuations)\n",
    "h = 0.0\n",
    "l = 0.0\n",
    "for high, low in marDeviationPercentage:\n",
    "    h = h + high\n",
    "    l = l + low\n",
    "marDeviation = (h/len(marDeviationPercentage), l/len(marDeviationPercentage))"
   ]
  },
  {
   "cell_type": "markdown",
   "metadata": {},
   "source": [
    "### Fluctuation represents an average error percentage\n",
    "### Deviation represents the average highest increase and lowest decrease from the open price of a month"
   ]
  },
  {
   "cell_type": "code",
   "execution_count": 125,
   "metadata": {
    "collapsed": false
   },
   "outputs": [
    {
     "name": "stdout",
     "output_type": "stream",
     "text": [
      "January Fluctuation = 0.0095749908656\n",
      "January Highest Deviation = 1.15137100573\n",
      "January Lowest Deviation = 0.916769922996\n",
      "\n",
      "February Fluctuation = 0.00817186885369\n",
      "February Highest Deviation = 1.09771570949\n",
      "February Lowest Deviation = 0.921968981055\n",
      "\n",
      "March Fluctuation = 0.00804821230373\n",
      "March Highest Deviation = 1.1017793796\n",
      "March Lowest Deviation = 0.920379759324\n"
     ]
    }
   ],
   "source": [
    "print \"January Fluctuation =\", janFluctuation\n",
    "print \"January Highest Deviation =\", janDeviation[0]\n",
    "print \"January Lowest Deviation =\", janDeviation[1]\n",
    "print \"\\nFebruary Fluctuation =\", febFluctuation\n",
    "print \"February Highest Deviation =\", febDeviation[0]\n",
    "print \"February Lowest Deviation =\", febDeviation[1]\n",
    "print \"\\nMarch Fluctuation =\", marFluctuation\n",
    "print \"March Highest Deviation =\", marDeviation[0]\n",
    "print \"March Lowest Deviation =\", marDeviation[1]"
   ]
  },
  {
   "cell_type": "code",
   "execution_count": 11,
   "metadata": {
    "collapsed": false
   },
   "outputs": [],
   "source": [
    "'''\n",
    "    Calculates slopes for each month based as the average of the regressions of past years\n",
    "'''\n",
    "janSlope = 0\n",
    "for i in range(len(janOpenPrices)):\n",
    "    m, b = np.polyfit(janDates[i], janOpenPrices[i], 1)\n",
    "    janSlope = janSlope + m\n",
    "janSlope = janSlope/len(janOpenPrices)\n",
    "\n",
    "febSlope = 0\n",
    "for i in range(len(febOpenPrices)):\n",
    "    m, b = np.polyfit(febDates[i], febOpenPrices[i], 1)\n",
    "    febSlope = febSlope + m\n",
    "febSlope = febSlope/len(febOpenPrices)\n",
    "\n",
    "marSlope = 0\n",
    "for i in range(len(marOpenPrices)):\n",
    "    m, b = np.polyfit(marDates[i], marOpenPrices[i], 1)\n",
    "    marSlope = marSlope + m\n",
    "marSlope = marSlope/len(marOpenPrices)"
   ]
  },
  {
   "cell_type": "code",
   "execution_count": 12,
   "metadata": {
    "collapsed": false
   },
   "outputs": [],
   "source": [
    "'''\n",
    "    Makes lists of the open prices for the first 3 months of 2016\n",
    "'''\n",
    "jan2016Opens = []\n",
    "for day in jan2016:\n",
    "    jan2016Opens.append(float(day['Open']))\n",
    "jan2016Opens = jan2016Opens[::-1]\n",
    "\n",
    "feb2016Opens = []\n",
    "for day in feb2016:\n",
    "    feb2016Opens.append(float(day['Open']))\n",
    "feb2016Opens = feb2016Opens[::-1]\n",
    "\n",
    "mar2016Opens = []\n",
    "for day in march2016:\n",
    "    mar2016Opens.append(float(day['Open']))\n",
    "mar2016Opens = mar2016Opens[::-1]"
   ]
  },
  {
   "cell_type": "code",
   "execution_count": 13,
   "metadata": {
    "collapsed": false
   },
   "outputs": [],
   "source": [
    "'''\n",
    "    Gets all the dates the stock market was open for the first 3 months of 2016\n",
    "'''\n",
    "jan2016Dates = []\n",
    "for day in jan2016:\n",
    "    jan2016Dates.append(int(day['Date'].split()[1][0:-1]))\n",
    "jan2016Dates = jan2016Dates[::-1]\n",
    "\n",
    "feb2016Dates = []\n",
    "for day in feb2016:\n",
    "    feb2016Dates.append(int(day['Date'].split()[1][0:-1]) + numDaysInJan)\n",
    "feb2016Dates = feb2016Dates[::-1]\n",
    "\n",
    "mar2016Dates = []\n",
    "for day in march2016:\n",
    "    mar2016Dates.append(int(day['Date'].split()[1][0:-1]) + numDaysInJan + numDaysInFeb)\n",
    "mar2016Dates = mar2016Dates[::-1]"
   ]
  },
  {
   "cell_type": "code",
   "execution_count": 14,
   "metadata": {
    "collapsed": false
   },
   "outputs": [],
   "source": [
    "'''\n",
    "    Connect the lines to each other\n",
    "'''\n",
    "jan2016Dates.append(feb2016Dates[0])\n",
    "jan2016Opens.append(feb2016Opens[0])\n",
    "\n",
    "feb2016Dates.append(mar2016Dates[0])\n",
    "feb2016Opens.append(mar2016Opens[0])"
   ]
  },
  {
   "cell_type": "code",
   "execution_count": 20,
   "metadata": {
    "collapsed": false
   },
   "outputs": [],
   "source": [
    "'''\n",
    "    Normalize all the values for 2016\n",
    "'''\n",
    "allOpens = []\n",
    "for entry in jan2016Opens:\n",
    "    allOpens.append(entry)\n",
    "    \n",
    "for entry in feb2016Opens:\n",
    "    allOpens.append(entry)\n",
    "    \n",
    "for entry in mar2016Opens:\n",
    "    allOpens.append(entry)\n",
    "    \n",
    "allOpens= norm(np.asarray(allOpens).reshape(1,-1))[0]\n",
    "\n",
    "jan2016Opens = allOpens[0:len(jan2016Opens)]\n",
    "feb2016Opens = allOpens[len(jan2016Opens): len(jan2016Opens) + len(feb2016Opens)]\n",
    "mar2016Opens = allOpens[len(jan2016Opens) + len(feb2016Opens):]"
   ]
  },
  {
   "cell_type": "code",
   "execution_count": 97,
   "metadata": {
    "collapsed": false
   },
   "outputs": [],
   "source": [
    "'''\n",
    "    Plots the actual value of the first quarter of the 2016 market.\n",
    "'''\n",
    "plt.plot(jan2016Dates, jan2016Opens, 'red')\n",
    "plt.axvline(x=jan2016Dates[-1], ls='dashed', color='black')\n",
    "plt.text(16, .13625, 'January', fontsize=15)\n",
    "plt.plot(feb2016Dates, feb2016Opens, 'red')\n",
    "plt.axvline(x=feb2016Dates[-1], ls='dashed', color='black')\n",
    "plt.text(44, .13625, 'February', fontsize=15)\n",
    "plt.plot(mar2016Dates, mar2016Opens, 'red')\n",
    "plt.text(74, .13625, 'March', fontsize=15)\n",
    "plt.ylabel('Stock Value')\n",
    "plt.xlabel('Days passed')\n",
    "plt.title('Actual Stock values in 2016')\n",
    "plt.axis([jan2016Dates[0], mar2016Dates[-1], 0.116, 0.140])\n",
    "plt.show()"
   ]
  },
  {
   "cell_type": "code",
   "execution_count": 33,
   "metadata": {
    "collapsed": false
   },
   "outputs": [],
   "source": [
    "'''\n",
    "    Makes the predicted values based on the pattern matching created by the regressions.\n",
    "'''\n",
    "predictedJan = []\n",
    "for i in range(len(jan2016Dates)):\n",
    "    if i == 0:\n",
    "        predictedJan.append(jan2016Opens[0])\n",
    "    else:\n",
    "        predictedJan.append(jan2016Opens[0] + jan2016Dates[i-1]*janSlope)\n",
    "\n",
    "predictedFeb = []\n",
    "for i in range(len(feb2016Dates)):\n",
    "    if i == 0:\n",
    "        predictedFeb.append(predictedJan[-1])\n",
    "    else:\n",
    "        predictedFeb.append(predictedJan[-1] + (feb2016Dates[i-1]-numDaysInJan)*febSlope)\n",
    "    \n",
    "predictedMar = []\n",
    "for i in range(len(mar2016Dates)):\n",
    "    if i == 0:\n",
    "        predictedMar.append(predictedFeb[-1])\n",
    "    else:\n",
    "        predictedMar.append(predictedFeb[-1] + (mar2016Dates[i-1]-numDaysInJan-numDaysInFeb)*marSlope)"
   ]
  },
  {
   "cell_type": "code",
   "execution_count": 98,
   "metadata": {
    "collapsed": false
   },
   "outputs": [],
   "source": [
    "plt.plot(jan2016Dates, predictedJan, 'red')\n",
    "plt.axvline(x=jan2016Dates[-1], ls='dashed', color='black')\n",
    "plt.text(16, .13625, 'January', fontsize=15)\n",
    "plt.plot(feb2016Dates, predictedFeb, 'red')\n",
    "plt.axvline(x=feb2016Dates[-1], ls='dashed', color='black')\n",
    "plt.text(44, .13625, 'February', fontsize=15)\n",
    "plt.plot(mar2016Dates, predictedMar, 'red')\n",
    "plt.text(74, .13625, 'March', fontsize=15)\n",
    "plt.ylabel('Predicted Stock Value')\n",
    "plt.xlabel('Days passed')\n",
    "plt.title('Predicted Stock values in 2016')\n",
    "plt.axis([jan2016Dates[0], mar2016Dates[-1], 0.128, 0.140])\n",
    "plt.show()"
   ]
  },
  {
   "cell_type": "markdown",
   "metadata": {
    "collapsed": true
   },
   "source": [
    "##    Find correlation of volume to stock price"
   ]
  },
  {
   "cell_type": "code",
   "execution_count": 115,
   "metadata": {
    "collapsed": true
   },
   "outputs": [],
   "source": [
    "df['Close'] = df['Close'].apply(float)\n",
    "df['Open'] = df['Open'].apply(float)\n",
    "df['diff'] = df[['Close']].sub(df['Open'], axis=0)\n",
    "df['newVolume'] = df['Volume'].str.replace(',', '')"
   ]
  },
  {
   "cell_type": "code",
   "execution_count": 119,
   "metadata": {
    "collapsed": false,
    "scrolled": true
   },
   "outputs": [],
   "source": [
    "# Create x, where x the 'Volume' column's values as floats\n",
    "x = df['newVolume'].values.astype(float)\n",
    "\n",
    "# Create a minimum and maximum processor object\n",
    "min_max_scaler = preprocessing.MinMaxScaler()\n",
    "\n",
    "# Create an object to transform the data to fit minmax processor\n",
    "x_scaled = min_max_scaler.fit_transform(x.reshape(-1,1))\n",
    "\n",
    "# Run the normalizer on the dataframe\n",
    "df['df_normalized'] = DataFrame(x_scaled)"
   ]
  },
  {
   "cell_type": "code",
   "execution_count": 120,
   "metadata": {
    "collapsed": false
   },
   "outputs": [
    {
     "name": "stdout",
     "output_type": "stream",
     "text": [
      "0       0.021581\n",
      "1       0.014932\n",
      "2       0.017910\n",
      "3       0.016767\n",
      "4       0.015318\n",
      "5       0.017272\n",
      "6       0.032657\n",
      "7       0.024886\n",
      "8       0.013523\n",
      "9       0.017487\n",
      "10      0.014318\n",
      "11      0.015127\n",
      "12      0.012540\n",
      "13      0.016511\n",
      "14      0.013906\n",
      "15      0.014147\n",
      "16      0.019989\n",
      "17      0.013678\n",
      "18      0.013711\n",
      "19      0.024208\n",
      "20      0.016453\n",
      "21      0.010270\n",
      "22      0.013600\n",
      "23      0.013585\n",
      "24      0.017240\n",
      "25      0.018829\n",
      "26      0.023260\n",
      "27      0.018324\n",
      "28      0.020291\n",
      "29      0.021417\n",
      "          ...   \n",
      "8889    0.003185\n",
      "8890    0.001377\n",
      "8891    0.004656\n",
      "8892    0.002008\n",
      "8893    0.003919\n",
      "8894    0.005468\n",
      "8895    0.001670\n",
      "8896    0.001761\n",
      "8897    0.001791\n",
      "8898    0.002971\n",
      "8899    0.003059\n",
      "8900    0.002763\n",
      "8901    0.005232\n",
      "8902    0.007369\n",
      "8903    0.005951\n",
      "8904    0.004680\n",
      "8905    0.002784\n",
      "8906    0.004683\n",
      "8907    0.009147\n",
      "8908    0.012419\n",
      "8909    0.007354\n",
      "8910    0.006334\n",
      "8911    0.006192\n",
      "8912    0.004900\n",
      "8913    0.006418\n",
      "8914    0.009763\n",
      "8915    0.011514\n",
      "8916    0.014113\n",
      "8917    0.023567\n",
      "8918    0.063072\n",
      "Name: df_normalized, dtype: float64\n"
     ]
    }
   ],
   "source": [
    "df.plot(style='o',x='df_normalized', y='diff', legend=False)\n",
    "\n",
    "# fit with np.polyfit\n",
    "x=df['df_normalized']\n",
    "y=df['diff']\n",
    "m, b = np.polyfit(x, y, 1) # x ~= -1.3301 in y = m*x + b\n",
    "plt.plot(x, m*x + b, color='red')\n",
    "plt.axis((0, .4, -10, 10))\n",
    "plt.ylabel('Change in the Stocks Value')\n",
    "plt.xlabel('Volume')\n",
    "plt.title('Volume Correlation')\n",
    "plt.show()"
   ]
  },
  {
   "cell_type": "code",
   "execution_count": 112,
   "metadata": {
    "collapsed": false,
    "scrolled": true
   },
   "outputs": [
    {
     "name": "stdout",
     "output_type": "stream",
     "text": [
      "                            OLS Regression Results                            \n",
      "==============================================================================\n",
      "Dep. Variable:                   diff   R-squared:                       0.001\n",
      "Model:                            OLS   Adj. R-squared:                  0.001\n",
      "Method:                 Least Squares   F-statistic:                     11.19\n",
      "Date:                Wed, 27 Apr 2016   Prob (F-statistic):           0.000828\n",
      "Time:                        04:04:35   Log-Likelihood:                -21085.\n",
      "No. Observations:                8919   AIC:                         4.217e+04\n",
      "Df Residuals:                    8918   BIC:                         4.218e+04\n",
      "Df Model:                           1                                         \n",
      "Covariance Type:            nonrobust                                         \n",
      "=================================================================================\n",
      "                    coef    std err          t      P>|t|      [95.0% Conf. Int.]\n",
      "---------------------------------------------------------------------------------\n",
      "df_normalized    -1.3301      0.398     -3.344      0.001        -2.110    -0.551\n",
      "==============================================================================\n",
      "Omnibus:                     2298.248   Durbin-Watson:                   2.147\n",
      "Prob(Omnibus):                  0.000   Jarque-Bera (JB):           164450.083\n",
      "Skew:                          -0.222   Prob(JB):                         0.00\n",
      "Kurtosis:                      24.031   Cond. No.                         1.00\n",
      "==============================================================================\n",
      "\n",
      "Warnings:\n",
      "[1] Standard Errors assume that the covariance matrix of the errors is correctly specified.\n"
     ]
    }
   ],
   "source": [
    "ols = sm.OLS(df['diff'], df['df_normalized'])\n",
    "results = ols.fit()\n",
    "print results.summary()"
   ]
  },
  {
   "cell_type": "code",
   "execution_count": null,
   "metadata": {
    "collapsed": true
   },
   "outputs": [],
   "source": []
  }
 ],
 "metadata": {
  "kernelspec": {
   "display_name": "Python 2",
   "language": "python",
   "name": "python2"
  },
  "language_info": {
   "codemirror_mode": {
    "name": "ipython",
    "version": 2
   },
   "file_extension": ".py",
   "mimetype": "text/x-python",
   "name": "python",
   "nbconvert_exporter": "python",
   "pygments_lexer": "ipython2",
   "version": "2.7.11"
  }
 },
 "nbformat": 4,
 "nbformat_minor": 0
}
