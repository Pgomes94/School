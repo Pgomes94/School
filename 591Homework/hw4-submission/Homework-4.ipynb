{
 "cells": [
  {
   "cell_type": "markdown",
   "metadata": {},
   "source": [
    "(In order to load the stylesheet of this notebook, execute the last code cell in this notebook)"
   ]
  },
  {
   "cell_type": "markdown",
   "metadata": {},
   "source": [
    "# Recommender System for Amazon Electronics"
   ]
  },
  {
   "cell_type": "markdown",
   "metadata": {},
   "source": [
    "In this assignment, we will be working with the [Amazon dataset](http://cs-people.bu.edu/kzhao/teaching/amazon_reviews_Electronics.tar.gz). You will build a recommender system to make predictions related to reviews of Electronics products on Amazon.\n",
    "\n",
    "Your grades will be determined by your performance on the predictive tasks as well as a brief written report about the approaches you took.\n",
    "\n",
    "This assignment should be completed **individually**."
   ]
  },
  {
   "cell_type": "markdown",
   "metadata": {},
   "source": [
    "## Files"
   ]
  },
  {
   "cell_type": "markdown",
   "metadata": {},
   "source": [
    "**train.json** 1,000,000 reviews to be used for training. It is not necessary to use all reviews for training if doing so proves too computationally intensive. The fields in this file are:\n",
    "\n",
    "* **reviewerID** The ID of the reviewer. This is a hashed user identifier from Amazon.\n",
    "\n",
    "* **asin** The ID of the item. This is a hashed product identifier from Amazon.\n",
    "\n",
    "* **overall** The rating of reviewer gave the item.\n",
    "\n",
    "* **helpful** The helpfulness votes for the review. This has 2 subfields, 'nHelpful' and 'outOf'. The latter is the total number of votes this review received. The former is the number of those that considered the review to be helpful.\n",
    "\n",
    "* **reviewText** The text of the review.\n",
    "\n",
    "* **summary** The summary of the review.\n",
    "\n",
    "* **unixReviewTime** The time of the review in seconds since 1970."
   ]
  },
  {
   "cell_type": "markdown",
   "metadata": {},
   "source": [
    "**meta.json** Contains metadata of the items:\n",
    "\n",
    "* **asin** The ID of the item.\n",
    "\n",
    "* **categories** The category labels of the item being reviewed.\n",
    "\n",
    "* **price** The price of the item.\n",
    "\n",
    "* **brand** The brand of the item."
   ]
  },
  {
   "cell_type": "markdown",
   "metadata": {},
   "source": [
    "**pairs_Rating.txt** The pairs (reviewerID and asin) on which you are to predict ratings.\n",
    "\n",
    "**pairs_Purchase.txt** The pairs on which you are to predict whether a user purchased an item or not.\n",
    "\n",
    "**pairs_Helpful.txt** The pairs on which you are to predict helpfulness votes. A third column in this file is the total number of votes from which you should predict how many were helpful."
   ]
  },
  {
   "cell_type": "markdown",
   "metadata": {},
   "source": [
    "**helpful.json** The review data associated with the helpfulness prediction test set. The 'nHelpful' field has been removed from this data since that is the value you need to predict above. This data will only be of use for the helpfulness prediction task."
   ]
  },
  {
   "cell_type": "markdown",
   "metadata": {},
   "source": [
    "**baseline.py** A simple baseline for each task."
   ]
  },
  {
   "cell_type": "markdown",
   "metadata": {
    "collapsed": true
   },
   "source": [
    "## Tasks"
   ]
  },
  {
   "cell_type": "markdown",
   "metadata": {},
   "source": [
    "**Rating prediction** Predict people's star ratings as accurately as possible for those (reviewerID, asin) pairs in 'pairs_Rating.txt'. Accuracy will be measured in terms of the [root mean-squared error (RMSE)](http://www.kaggle.com/wiki/RootMeanSquaredError).\n",
    "\n",
    "**Purchase prediction** Predict given a (reviewerID, asin) pair from 'pairs_Purchase.txt' whether the user purchased the item (really, whether it was one of the items they reviewed). Accuracy will be measured in terms of the [categorization accuracy](http://www.kaggle.com/wiki/HammingLoss) (1 minus the Hamming loss).\n",
    "\n",
    "**Helpfulness prediction** Predic whether a user's review of an item will be considered helpful. The file 'pairs_Helpful.txt' contains (reviewerID, asin) pairs with a third column containing the number of votes the user's review of the item received. You must predict how many of them were helpful. Accuracy will be measured in terms of the total [absolute error](http://www.kaggle.com/wiki/AbsoluteError), i.e. you are penalized one according to the difference |nHelpful - prediction|, where 'nHelpful' is the number of helpful votes the review actually received, and 'prediction' is your prediction of this quantity.\n",
    "\n",
    "We set up competitions on Kaggle to keep track of your results compared to those of other members of the class. The leaderboard will show your results on half of the test data, but your ultimate score will depend on your predictions across the whole dataset.\n",
    "* Kaggle competition: [rating prediction](https://inclass.kaggle.com/c/cs591-hw3-rating-prediction3) click here to [join](https://kaggle.com/join/datascience16rating)\n",
    "* Kaggle competition: [purchase prediction](https://inclass.kaggle.com/c/cs591-hw3-purchase-prediction) click here to [join](https://kaggle.com/join/datascience16purchase)\n",
    "* Kaggle competition: [helpfulness prediction](https://inclass.kaggle.com/c/cs591-hw3-helpful-prediction) click here to [join](https://kaggle.com/join/datascience16helpful)"
   ]
  },
  {
   "cell_type": "markdown",
   "metadata": {},
   "source": [
    "## Grading and Evaluation"
   ]
  },
  {
   "cell_type": "markdown",
   "metadata": {},
   "source": [
    "You will be graded on the following aspects.\n",
    "\n",
    "* Your written report. This should describe the approaches you took to each of the 3 tasks. To obtain good performance, you should not need to invent new approaches (though you are more than welcome to) but rather you will be graded based on your decision to apply reasonable approaches to each of the given tasks. (**10pts** for each task)\n",
    "\n",
    "* Your ability to obtain a solution which outperforms the baselines on the unseen portion of the test data. Obtaining full marks requires a solution which is substantially better (at least several percent) than baseline performance. (**10pts** for each task)\n",
    "\n",
    "* Your ranking for each of the three tasks compared to other students in the class. (**5pts** for each task)\n",
    "\n",
    "* Obtain a solution which outperforms the baselines on the seen portion of the test data (the leaderboard). \n",
    "(**5pts** for each task)"
   ]
  },
  {
   "cell_type": "markdown",
   "metadata": {},
   "source": [
    "## Baselines"
   ]
  },
  {
   "cell_type": "markdown",
   "metadata": {},
   "source": [
    "Simple baselines have been provided for each of the 3 tasks. These are included in 'baselines.py' among the files above. These 3 baselines operate as follows:\n",
    "\n",
    "**Rating prediction** Returns the global average rating, or the user's average if you have seen them before in the training data.\n",
    "\n",
    "**Purchase prediction** Finds the most popular products that account for 50% of purchases in the training data. Return '1' whenever such a product is seen at test time, '0' otherwise.\n",
    "\n",
    "** Helpfulness prediction** Multiplies the number of votes by the global average helpfulness rate, or the user's rate if we saw this user in the training data.\n",
    "\n",
    "Running 'baseline.py' produces 3 files containing predicted outputs. Your submission files should have the same format."
   ]
  },
  {
   "cell_type": "markdown",
   "metadata": {},
   "source": [
    "## Dataset Citation"
   ]
  },
  {
   "cell_type": "markdown",
   "metadata": {},
   "source": [
    "**Image-based recommendations on styles and substitutes** J. McAuley, C. Targett, J. Shi, A. van den Hengel *SIGIR*, 2015\n",
    "\n",
    "**Inferring networks of substitutable and complementary products** J. McAuley, R. Pandey, J. Leskovec *Knowledge Discovery and Data Mining*, 2015"
   ]
  },
  {
   "cell_type": "markdown",
   "metadata": {},
   "source": [
    "-----------------"
   ]
  },
  {
   "cell_type": "markdown",
   "metadata": {},
   "source": [
    "Solutions for all parts below. Labels in header comments"
   ]
  },
  {
   "cell_type": "code",
   "execution_count": 2,
   "metadata": {
    "collapsed": true
   },
   "outputs": [],
   "source": [
    "'''\n",
    "    define all our variables.\n",
    "'''\n",
    "reviewerIdDict = {} # dictionary of reviewerId : other info from train_data\n",
    "allAsinRatings = {} # dictionary of asinId : all ratings for that asin\n",
    "averageAsinRatings = {} # dictionary of asinId : average rating for that product\n",
    "allReviewerRatings = {} # dictionary of reviewerId : all ratings that reviewer has given\n",
    "averageReviewerRating = {} # dictionary of reviewerId : average rating for all his products\n",
    "globalRatingAverage = 0 # the average rating of all products in train.json\n",
    "train_data = [] # a list of all lines in train.json\n",
    "averagePurchases = 0 # the average purchases for a reviewer\n",
    "meta_data = [] # a list of all line in meta.json\n",
    "firstLine = True # represents if this is the first line in the file, to just write it back without doing any predicting\n",
    "popularity = [] # a list of the sorted most bought items (aka most reviewed)\n",
    "helpfulness = {} # dictionary of numVotes : average helpfulNumVotes for total votes = numVotes"
   ]
  },
  {
   "cell_type": "code",
   "execution_count": 3,
   "metadata": {
    "collapsed": true
   },
   "outputs": [],
   "source": [
    "'''\n",
    "    parse json file into list\n",
    "    train.json should be in the local directory\n",
    "'''\n",
    "import json\n",
    "train_json = open('train.json', 'r')\n",
    "train_data = []\n",
    "for line in train_json:\n",
    "    train_data.append(json.loads(line, strict=False))\n",
    "train_json.close()"
   ]
  },
  {
   "cell_type": "code",
   "execution_count": 4,
   "metadata": {
    "collapsed": true
   },
   "outputs": [],
   "source": [
    "'''\n",
    "    parse train data list to extract relevant information into dictionaries\n",
    "'''\n",
    "reviewerIdDict = {}    \n",
    "allAsinRatings = {}\n",
    "averageAsinRatings = {}\n",
    "allReviewerRatings = {}\n",
    "averageReviewerRatings = {}\n",
    "globalRatingAverage = 0\n",
    "averagePurchases = 0\n",
    "helpfulness = {}\n",
    "helpfulness[-1] = [] # used to represent global average number of helpful votes\n",
    "for line in train_data:\n",
    "    reviewerId = line[u'reviewerID']\n",
    "    asinId = line['asin']\n",
    "    overall = line['overall']\n",
    "    globalRatingAverage = globalRatingAverage + overall\n",
    "    helpful = line[\"helpful\"]\n",
    "    entryDict = {\n",
    "    \"asin\" : asinId,\n",
    "    \"overall\" : overall,\n",
    "    \"helpful\" : {\n",
    "        \"Helpful\" : helpful[\"nHelpful\"],\n",
    "        \"outOf\" : helpful[\"outOf\"],\n",
    "    },\n",
    "    \"reviewText\" : line[\"reviewText\"],\n",
    "    \"summary\" : line[\"summary\"],\n",
    "    \"unixReviewTime\" : line[\"unixReviewTime\"]\n",
    "}\n",
    "    if reviewerIdDict.get(reviewerId) is not None:\n",
    "        allReviewerRatings[reviewerId].append(overall)\n",
    "        reviewerIdDict[reviewerId].append(entryDict)\n",
    "    else:\n",
    "        allReviewerRatings[reviewerId] = [overall]\n",
    "        reviewerIdDict[reviewerId] = [entryDict]\n",
    "    \n",
    "    if allAsinRatings.get(asinId) is not None:\n",
    "        allAsinRatings[asinId].append(overall)\n",
    "    else:\n",
    "        allAsinRatings[asinId] = [overall]\n",
    "    \n",
    "    if helpfulness.get(helpful['outOf']) is None:\n",
    "        helpfulness[helpful['outOf']] = [helpful['nHelpful']]\n",
    "    else:\n",
    "        helpfulness[helpful['outOf']].append(helpful['nHelpful'])\n",
    "    helpfulness[-1].append(helpful['nHelpful'])\n",
    "\n",
    "globalRatingAverage = globalRatingAverage / len(train_data)\n",
    "\n",
    "keys = reviewerIdDict.keys()\n",
    "for key in keys:\n",
    "    averagePurchases = averagePurchases + len(reviewerIdDict[key])\n",
    "averagePurchases = int(averagePurchases*1.0 / len(keys) + 0.5)\n",
    "\n",
    "keys = allAsinRatings.keys()\n",
    "for key in keys:\n",
    "    averageAsinRatings[key] = float(sum(allAsinRatings[key])) / len(allAsinRatings[key])\n",
    "    \n",
    "keys = allReviewerRatings.keys()\n",
    "for key in keys:\n",
    "    averageReviewerRatings[key] = float(sum(allReviewerRatings[key])) / len(allReviewerRatings[key])\n",
    "    \n",
    "keys = helpfulness.keys()\n",
    "for  key in keys:\n",
    "    helpfulness[key] = float(sum(helpfulness[key])) / len(helpfulness[key])"
   ]
  },
  {
   "cell_type": "code",
   "execution_count": 5,
   "metadata": {
    "collapsed": true
   },
   "outputs": [],
   "source": [
    "'''\n",
    "    parses the meta info into a dictionary\n",
    "    meta.json should be in the local directory\n",
    "        NOTE ON META.JSON!!! I slight edited meta.json to remove all ' symbols from categories.\n",
    "        Using a different meta.json will break this method.\n",
    "'''\n",
    "meta_json = open('meta.json', 'r')\n",
    "meta_data = []\n",
    "for line in meta_json:\n",
    "    meta_data.append(json.loads(line, strict=False))\n",
    "meta_json.close()\n",
    "item_info = {}\n",
    "for line in meta_data:\n",
    "    item_info[line['asin']] = [line['categories'], line['price']]"
   ]
  },
  {
   "cell_type": "code",
   "execution_count": 6,
   "metadata": {
    "collapsed": true
   },
   "outputs": [],
   "source": [
    "'''\n",
    "    Calculates the predicted rating and writes it all to ratingPredictions.txt\n",
    "    Assumes that pairs_Rating.txt is in the local directory\n",
    "'''\n",
    "ratingPredict = open('pairs_Rating.txt', 'r')\n",
    "predictions = open('ratingPredictions.txt', 'w')\n",
    "firstLine = True\n",
    "for line in ratingPredict:\n",
    "    if firstLine == True:\n",
    "        # catch the header and just write it to the file\n",
    "        predictions.write(line)\n",
    "        firstLine = False\n",
    "        continue\n",
    "    # remove newline, will manually add later\n",
    "    line = line.strip()\n",
    "    (rid, aid) = line.split('-')\n",
    "    prediction = 0\n",
    "    if rid in reviewerIdDict and aid in allAsinRatings:\n",
    "        ''' \n",
    "            assign weights to each average\n",
    "            if reviewer is active, his global average weighs more\n",
    "            if reviewer is not active, his global average weighs less\n",
    "            asin average rating weighs inverse of reviewer\n",
    "        '''\n",
    "        reviewerBias = float(len(reviewerIdDict[rid])) / (len(reviewerIdDict[rid]) + len(allAsinRatings[aid]))\n",
    "        asinBias = float(len(allAsinRatings[aid])) / (len(reviewerIdDict[rid]) + len(allAsinRatings[aid]))\n",
    "        prediction = averageReviewerRatings[rid] * reviewerBias \n",
    "        prediction = prediction + averageAsinRatings[aid] * asinBias\n",
    "        \n",
    "        # weigh in the global average to increase accuracy slightly\n",
    "        prediction = prediction*0.75 + 0.25*globalRatingAverage\n",
    "    elif rid in reviewerIdDict and len(reviewerIdDict[rid]) > 10:\n",
    "        '''\n",
    "            if reviewer has more than 10 reviews, include his average.\n",
    "            no asin available.\n",
    "        '''\n",
    "        prediction = averageReviewerRatings[rid]*0.8+ 0.2 * globalRatingAverage\n",
    "    elif aid in allAsinRatings and len(allAsinRatings[aid]) > 15:\n",
    "        '''\n",
    "            if product has more than 15 reviews, include its average\n",
    "            no reviewer available.\n",
    "        '''\n",
    "        prediction = averageAsinRatings[aid]*0.8 + 0.2 * globalRatingAverage\n",
    "    else:\n",
    "        # nothing significant to work with, use global average\n",
    "        prediction = globalRatingAverage\n",
    "    \n",
    "    # precautionary last minute check to ensure prediction in range 1-5 and minimize error\n",
    "    if prediction > 5:\n",
    "        prediction = 5\n",
    "    elif prediction < 1:\n",
    "        prediction = 1\n",
    "    # write to file\n",
    "    predictions.write(line)\n",
    "    predictions.write(',')\n",
    "    predictions.write(str(prediction))\n",
    "    predictions.write('\\n')\n",
    "ratingPredict.close()\n",
    "predictions.close()"
   ]
  },
  {
   "cell_type": "code",
   "execution_count": 7,
   "metadata": {
    "collapsed": true
   },
   "outputs": [],
   "source": [
    "'''\n",
    "    Makes dictionaries of the most popular elements for easy checking in purchase predictions.\n",
    "'''\n",
    "popularity = []\n",
    "\n",
    "def getMostPopularProducts():\n",
    "    keys = allAsinRatings.keys()\n",
    "    for key in keys:\n",
    "        popularity.append( (len(allAsinRatings[key]), key))\n",
    "getMostPopularProducts()\n",
    "popularity.sort(reverse=True)\n",
    "\n",
    "top70Percent = {}\n",
    "count = 0\n",
    "while True:\n",
    "    top70Percent[popularity[count][1]] = 1\n",
    "    count = count + 1\n",
    "    if count >= 0.7*len(popularity):\n",
    "        break\n",
    "        \n",
    "top80Percent = {}\n",
    "count = 0\n",
    "while True:\n",
    "    top80Percent[popularity[count][1]] = 1\n",
    "    count = count + 1\n",
    "    if count >= 0.8*len(popularity):\n",
    "        break"
   ]
  },
  {
   "cell_type": "code",
   "execution_count": 8,
   "metadata": {
    "collapsed": true
   },
   "outputs": [],
   "source": [
    "'''\n",
    "    Calculates the predicted purchase value and writes it all to purchasePredictions.txt\n",
    "    Assumes that pairs_Purchase.txt is in the local directory\n",
    "'''\n",
    "pairsPurchase = open('pairs_Purchase.txt', 'r')\n",
    "predictions = open('purchasePredictions.txt' ,'w')\n",
    "firstLine = True\n",
    "for line in pairsPurchase:\n",
    "    if firstLine == True:\n",
    "        # catch the header and just write it to the file\n",
    "        predictions.write(line)\n",
    "        firstLine = False\n",
    "        continue\n",
    "    else:\n",
    "        prediction = 0\n",
    "        line = line.strip('\\n')\n",
    "        (rid, asin) = line.split('-')\n",
    "        reviewerInfo = reviewerIdDict.get(rid)\n",
    "        if asin in top70Percent: \n",
    "            # include anything in the top 70 percent of all popular products\n",
    "            prediction = 1\n",
    "        elif asin in top80Percent and averageAsinRatings.get(asin) > 4.5:\n",
    "            # include anything in the top 80 percent with a rating above 4.5 out of 5\n",
    "            prediction = 1\n",
    "        elif asin in top80Percent and rid in reviewerIdDict and len(reviewerIdDict[rid]) > 10:\n",
    "            # include anything in the top 80 percent where the reviewer is known to buy many items\n",
    "            prediction = 1\n",
    "        else:\n",
    "            prediction = 0\n",
    "    predictions.write(line)\n",
    "    predictions.write(',')\n",
    "    predictions.write(str(prediction))\n",
    "    predictions.write('\\n')\n",
    "pairsPurchase.close()\n",
    "predictions.close()"
   ]
  },
  {
   "cell_type": "code",
   "execution_count": 9,
   "metadata": {
    "collapsed": false
   },
   "outputs": [],
   "source": [
    "'''\n",
    "    Calculates the predicted number of helpful votes and writes it all to purchasePredictions.txt\n",
    "    Assumes that pairs_Helpful.txt is in the local directory\n",
    "'''\n",
    "pairsHelpful = open('pairs_Helpful.txt', 'r')\n",
    "predictions = open('helpfulnessPredictions.txt' ,'w')\n",
    "firstLine = True\n",
    "for line in pairsHelpful:\n",
    "    if firstLine == True:\n",
    "        # catch the header and just write it to the file\n",
    "        predictions.write(line)\n",
    "        firstLine = False\n",
    "        continue\n",
    "    else:\n",
    "        line = line.strip()\n",
    "        (rid, aid, outOf) = line.split('-')\n",
    "        outOf = int(outOf)\n",
    "        lower = outOf\n",
    "        higher = outOf\n",
    "        \n",
    "        # grab the closest helpfulness score to outOf\n",
    "        while helpfulness.get(lower) is None:\n",
    "            lower = lower - 1\n",
    "        while helpfulness.get(higher) is None:\n",
    "            higher = higher + 1    \n",
    "        if lower == outOf:\n",
    "            prediction = helpfulness[outOf]\n",
    "        elif outOf - lower < higher - outOf:\n",
    "            prediction = helpfulness[lower]\n",
    "        else:\n",
    "            prediction = helpfulness[higher]\n",
    "            \n",
    "        # write\n",
    "        predictions.write(line)\n",
    "        predictions.write(',')\n",
    "        predictions.write(str(prediction))\n",
    "        predictions.write('\\n')\n",
    "pairsHelpful.close()\n",
    "predictions.close()"
   ]
  },
  {
   "cell_type": "code",
   "execution_count": 9,
   "metadata": {
    "collapsed": false
   },
   "outputs": [
    {
     "data": {
      "text/html": [
       "<link href='http://fonts.googleapis.com/css?family=EB+Garamond' rel='stylesheet' type='text/css'>\r\n",
       "<link href='http://fonts.googleapis.com/css?family=Alegreya+Sans:100,300,400,500,700,800,900,100italic,300italic,400italic,500italic,700italic,800italic,900italic' rel='stylesheet' type='text/css'>\r\n",
       "<link href='http://fonts.googleapis.com/css?family=Source+Code+Pro:300,400' rel='stylesheet' type='text/css'>\r\n",
       "<style>\r\n",
       "    @font-face {\r\n",
       "        font-family: \"Computer Modern\";\r\n",
       "        src: url('http://mirrors.ctan.org/fonts/cm-unicode/fonts/otf/cmunss.otf');\r\n",
       "    }\r\n",
       "    .code_cell {\r\n",
       "        width: 105ex !important ;\r\n",
       "        margin-bottom: 15px !important;\r\n",
       "    }\r\n",
       "    div.cell {\r\n",
       "        margin-left: auto;\r\n",
       "        margin-right: auto;\r\n",
       "        width: 70%;\r\n",
       "    }    \r\n",
       "    div.cell.selected {\r\n",
       "        border: thin rgba(171, 171, 171, 0.5) dashed;\r\n",
       "    }\r\n",
       "    h1 {\r\n",
       "        font-family: 'Alegreya Sans', sans-serif;\r\n",
       "    }\r\n",
       "    h2 {\r\n",
       "        font-family: 'EB Garamond', serif;\r\n",
       "    }\r\n",
       "    h3 {\r\n",
       "        font-family: 'EB Garamond', serif;\r\n",
       "        margin-top:12px;\r\n",
       "        margin-bottom: 3px;\r\n",
       "    }\r\n",
       "    h4 {\r\n",
       "        font-family: 'EB Garamond', serif;\r\n",
       "    }\r\n",
       "    h5 {\r\n",
       "        font-family: 'Alegreya Sans', sans-serif;\r\n",
       "    }\r\n",
       "    div.text_cell_render {\r\n",
       "        font-family: 'EB Garamond',Computer Modern, \"Helvetica Neue\", Arial, Helvetica, Geneva, sans-serif;\r\n",
       "        line-height: 145%;\r\n",
       "        font-size: 140%;\r\n",
       "    }\r\n",
       "    div.input_area {\r\n",
       "        border-color: rgba(0,0,0,0.10) !important;\r\n",
       "        background: #fafafa;\r\n",
       "    }\r\n",
       "    .CodeMirror {\r\n",
       "            font-family: \"Source Code Pro\";\r\n",
       "            font-size: 90%;\r\n",
       "    }\r\n",
       "    .prompt {\r\n",
       "        display: None;\r\n",
       "    }\r\n",
       "    .output {\r\n",
       "        padding-left: 50px;\r\n",
       "        padding-top: 5px;\r\n",
       "    }\r\n",
       "    .output_wrapper {\r\n",
       "        padding-left: 5px;\r\n",
       "        padding-top: inherit;\r\n",
       "    }\r\n",
       "    div.output_scroll {\r\n",
       "        width: inherit;\r\n",
       "    }\r\n",
       "    .inner_cell {\r\n",
       "        padding-left: 5px;\r\n",
       "    }\r\n",
       "    .text_cell_render h1 {\r\n",
       "        font-weight: 200;\r\n",
       "        font-size: 50pt;\r\n",
       "        line-height: 100%;\r\n",
       "        color:#CD2305;\r\n",
       "        margin-bottom: 0.5em;\r\n",
       "        margin-top: 0.5em;\r\n",
       "        display: block;\r\n",
       "    }\r\n",
       "    .text_cell_render h5 {\r\n",
       "        font-weight: 300;\r\n",
       "        font-size: 16pt;\r\n",
       "        color: #CD2305;\r\n",
       "        font-style: italic;\r\n",
       "        margin-bottom: .5em;\r\n",
       "        margin-top: 0.5em;\r\n",
       "        display: block;\r\n",
       "    }\r\n",
       "    .warning {\r\n",
       "        color: rgb( 240, 20, 20 )\r\n",
       "        }  \r\n",
       "</style>\r\n",
       "<script>\r\n",
       "    MathJax.Hub.Config({\r\n",
       "                        TeX: {\r\n",
       "                           extensions: [\"AMSmath.js\"]\r\n",
       "                           },\r\n",
       "                tex2jax: {\r\n",
       "                    inlineMath: [ ['$','$'], [\"\\\\(\",\"\\\\)\"] ],\r\n",
       "                    displayMath: [ ['$$','$$'], [\"\\\\[\",\"\\\\]\"] ]\r\n",
       "                },\r\n",
       "                displayAlign: 'center', // Change this to 'center' to center equations.\r\n",
       "                \"HTML-CSS\": {\r\n",
       "                    styles: {'.MathJax_Display': {\"margin\": 4}}\r\n",
       "                }\r\n",
       "        });\r\n",
       "</script>"
      ],
      "text/plain": [
       "<IPython.core.display.HTML object>"
      ]
     },
     "execution_count": 9,
     "metadata": {},
     "output_type": "execute_result"
    }
   ],
   "source": [
    "# Code for setting the style of the notebook\n",
    "from IPython.core.display import HTML\n",
    "def css_styling():\n",
    "    styles = open(\"../custom.css\", \"r\").read()\n",
    "    return HTML(styles)\n",
    "css_styling()"
   ]
  }
 ],
 "metadata": {
  "kernelspec": {
   "display_name": "Python 2",
   "language": "python",
   "name": "python2"
  },
  "language_info": {
   "codemirror_mode": {
    "name": "ipython",
    "version": 2
   },
   "file_extension": ".py",
   "mimetype": "text/x-python",
   "name": "python",
   "nbconvert_exporter": "python",
   "pygments_lexer": "ipython2",
   "version": "2.7.11"
  }
 },
 "nbformat": 4,
 "nbformat_minor": 0
}
