{
 "cells": [
  {
   "cell_type": "markdown",
   "metadata": {},
   "source": [
    "# Homework 0"
   ]
  },
  {
   "cell_type": "markdown",
   "metadata": {},
   "source": [
    "The goal of this homework is to practice the skills learned in Lecture 2. These skills will be essential for the rest of this course."
   ]
  },
  {
   "cell_type": "markdown",
   "metadata": {},
   "source": [
    "Before starting to work on this homework, **make a new folder** named ```hw0-submission```   in your private repo and download ```Homework-0.ipynb``` to that folder."
   ]
  },
  {
   "cell_type": "markdown",
   "metadata": {},
   "source": [
    "Let's make sure that you placed everything in the correct folder"
   ]
  },
  {
   "cell_type": "code",
   "execution_count": 1,
   "metadata": {
    "collapsed": false
   },
   "outputs": [
    {
     "name": "stdout",
     "output_type": "stream",
     "text": [
      "You did everything correctly. Congrats!\n"
     ]
    }
   ],
   "source": [
    "import os\n",
    "error = False\n",
    "\n",
    "if os.path.basename(os.path.realpath('.')) != \"hw0-submission\":\n",
    "    print \"The name of the current directory should be 'hw0-submission'\"\n",
    "    error = True\n",
    "\n",
    "if not error:\n",
    "    print \"You did everything correctly. Congrats!\""
   ]
  },
  {
   "cell_type": "markdown",
   "metadata": {},
   "source": [
    "Now, assuming that everything is in their correct place, you should ``git add`` all the new directories/files and make your initial ```git commit```."
   ]
  },
  {
   "cell_type": "markdown",
   "metadata": {},
   "source": [
    "## This is a Markdown cell"
   ]
  },
  {
   "cell_type": "code",
   "execution_count": null,
   "metadata": {
    "collapsed": false
   },
   "outputs": [],
   "source": [
    "# Insert and edit your own markdown cell *below*. Write your favorite quote"
   ]
  },
  {
   "cell_type": "code",
   "execution_count": null,
   "metadata": {
    "collapsed": true
   },
   "outputs": [],
   "source": [
    "# Insanity: doing the same thing over and over again and expecting different results."
   ]
  },
  {
   "cell_type": "code",
   "execution_count": 2,
   "metadata": {
    "collapsed": false
   },
   "outputs": [
    {
     "name": "stdout",
     "output_type": "stream",
     "text": [
      "hi\n"
     ]
    }
   ],
   "source": [
    "# This is a code cell. Try executing it.\n",
    "print \"hi\""
   ]
  },
  {
   "cell_type": "markdown",
   "metadata": {},
   "source": [
    "Write a function that takes as argument a string and returns its 3-letter suffix. If the string is shorter than 3 letters, return the whole string."
   ]
  },
  {
   "cell_type": "code",
   "execution_count": 7,
   "metadata": {
    "collapsed": false
   },
   "outputs": [],
   "source": [
    "def suffix_3(string):\n",
    "    \"\"\"\n",
    "    Returns the 3-letter suffix.\n",
    "    \n",
    "    Parameters:\n",
    "        string: str\n",
    "    \n",
    "    Returns:\n",
    "        suffix: str\n",
    "        If `string` is more than 3-letters long, `suffix` is its 3-letter suffix. Otherwise, `suffix` is the same as `string`.\n",
    "    \"\"\"\n",
    "    if string is None:\n",
    "        return \"\"\n",
    "    if len(string) < 3:\n",
    "        return string\n",
    "    else:\n",
    "        return string[0:3]\n",
    "    "
   ]
  },
  {
   "cell_type": "code",
   "execution_count": 9,
   "metadata": {
    "collapsed": false
   },
   "outputs": [
    {
     "name": "stdout",
     "output_type": "stream",
     "text": [
      "Hi!\n",
      "Sup\n",
      "No\n"
     ]
    }
   ],
   "source": [
    "print suffix_3(\"Hi!\")\n",
    "print suffix_3(\"Superb\")\n",
    "print suffix_3(\"No\") #added test case, less than 3 letters"
   ]
  },
  {
   "cell_type": "markdown",
   "metadata": {},
   "source": [
    "When you finish with the above function, don't forget to ```add``` and ```commit``` to your local git repository."
   ]
  },
  {
   "cell_type": "markdown",
   "metadata": {},
   "source": [
    "Let's print the versions of some packages that we will be using in the future. If any of these packages are not present, ```conda install``` them."
   ]
  },
  {
   "cell_type": "code",
   "execution_count": 10,
   "metadata": {
    "collapsed": false
   },
   "outputs": [
    {
     "name": "stdout",
     "output_type": "stream",
     "text": [
      "numpy: 1.10.1\n",
      "scipy: 0.16.0\n",
      "matplotlib: 1.5.0\n",
      "scikit-learn: 0.17\n",
      "pandas: 0.17.1\n"
     ]
    }
   ],
   "source": [
    "import numpy\n",
    "print 'numpy:', numpy.__version__\n",
    "\n",
    "import scipy\n",
    "print 'scipy:', scipy.__version__\n",
    "\n",
    "import matplotlib\n",
    "print 'matplotlib:', matplotlib.__version__\n",
    "\n",
    "import sklearn\n",
    "print 'scikit-learn:', sklearn.__version__\n",
    "\n",
    "import pandas\n",
    "print 'pandas:', pandas.__version__"
   ]
  },
  {
   "cell_type": "markdown",
   "metadata": {},
   "source": [
    "Write a function that takes as argument a 2D list representing a matrix **M** and returns a boolean indicating whether **M** is an orthogonal matrix."
   ]
  },
  {
   "cell_type": "code",
   "execution_count": 35,
   "metadata": {
    "collapsed": true
   },
   "outputs": [],
   "source": [
    "import numpy\n",
    "\n",
    "\"\"\"\n",
    "The solution below is reused from when I solved this problem in CS132 with Professor Lapets. It works by checking\n",
    "that the matrix multiplication of M and Transpose of M is equivalent to the identity matrix with the same size as M.\n",
    "\n",
    "Assumption: M is a valid matrix, i.e. all rows have the same length, all columns have the same length \n",
    "(not necessarily square)\n",
    "\"\"\"\n",
    "\n",
    "def is_matrix_orthogonal(M):\n",
    "    \"\"\"\n",
    "    Returns whether M is an orthogonal matrix.\n",
    "    \n",
    "    Parameters:\n",
    "        M: 2D list\n",
    "    \n",
    "    Returns:\n",
    "        is_orthogonal: boolean\n",
    "    \"\"\"\n",
    "    if len(M) != len(M[0]):\n",
    "        return False\n",
    "    TransM = transpose(M)\n",
    "    Identity = identityMatrix(len(M))\n",
    "    Mult = mult(M, TransM)\n",
    "    return Mult == Identity\n",
    "\n",
    "def transpose(M):\n",
    "    \"\"\"\n",
    "    Swaps the rows and columns of the matrix M\n",
    "    \"\"\"\n",
    "    return list(getColumn(M, i) for i in range(0, len(M[0])))\n",
    "\n",
    "def getColumn(M, i):\n",
    "    \"\"\"\n",
    "    gets column 'i' and returns it\n",
    "    \"\"\"\n",
    "    return list(M[x][i] for x in range(0, len(M)))\n",
    "\n",
    "def identityMatrix(n):\n",
    "    \"\"\"\n",
    "    returns identity matrix size n*n\n",
    "    \"\"\"\n",
    "    I = list()\n",
    "    for i in range(0,n):\n",
    "        I.append(list(list(0 for x in range(0,n))))\n",
    "    for i in range(0,n):\n",
    "        I[i][i] = 1\n",
    "    return I\n",
    "    \n",
    "def mult(A, B):\n",
    "    \"\"\"\n",
    "    Multiplies 2 matricies together\n",
    "    \"\"\"\n",
    "    if len(A[0]) != len(B):\n",
    "        return None\n",
    "    return list([multHelper(A[i],B) for i in range(0, len(A))])\n",
    "\n",
    "def multHelper(v,w):\n",
    "    \"\"\"\n",
    "    takes a row v and a matrix w and does the dot product of the row with each column\n",
    "    each dot product is a term in the returned list resulting in a row \n",
    "    \"\"\"\n",
    "    return list(dot(v, getColumn(w, i)) for i in range(0, len(w[0])))\n",
    "    \n",
    "def dot(v,w):\n",
    "    \"\"\"\n",
    "    Calculates the dot product of v and w\n",
    "    \"\"\"\n",
    "    if len(v) != len(w):\n",
    "        return None\n",
    "    sum = 0\n",
    "    for i in range(0, len(v)):\n",
    "        sum = sum + (v[i] * w[i])\n",
    "    return sum\n",
    "\n",
    "\n",
    "    "
   ]
  },
  {
   "cell_type": "code",
   "execution_count": 36,
   "metadata": {
    "collapsed": false,
    "scrolled": false
   },
   "outputs": [
    {
     "name": "stdout",
     "output_type": "stream",
     "text": [
      "[[1, 0], [0, 1]]\n",
      "True\n",
      "[[1.0, 0.0, 0.0], [0.0, 1.0, 0.0], [0.0, 0.0, 1.0]]\n",
      "True\n",
      "[[23.867895859999997, 22.482930609999997, 2.10324651], [22.482930609999997, 30.94277906, 1.74827332], [2.10324651, 1.74827332, 4.51246702]]\n",
      "False\n",
      "[[1.00003826, -2.428000000000846e-05, 4.974000000005502e-05], [-2.428000000000846e-05, 1.00007753, -4.299999999995974e-05], [4.974000000005502e-05, -4.299999999995974e-05, 0.99990276]]\n",
      "False\n"
     ]
    }
   ],
   "source": [
    "print is_matrix_orthogonal([[1, 0], [0, -1]])\n",
    "print is_matrix_orthogonal([[1.0/3, -2.0/3, 2.0/3], [2.0/3, -1.0/3, -2.0/3], [2.0/3, 2.0/3, 1.0/3]]) #added test case, should be true.\n",
    "print is_matrix_orthogonal([[-1.2396, -4.3801, -1.7737], [-1.3121, -2.9193, -4.5496], [-2.1143, 0.0363, 0.2022]])\n",
    "print is_matrix_orthogonal([[-0.8185, 0.5740, -0.0249], [-0.2510, -0.3183, 0.9142], [-0.5168, -0.7544, -0.4046]])"
   ]
  },
  {
   "cell_type": "markdown",
   "metadata": {},
   "source": [
    "When you finish with the above function, don't forget to ```add``` and ```commit``` to your local git repository."
   ]
  },
  {
   "cell_type": "markdown",
   "metadata": {},
   "source": [
    "## Submitting"
   ]
  },
  {
   "cell_type": "markdown",
   "metadata": {},
   "source": [
    "Now, you can push your changes to Github."
   ]
  },
  {
   "cell_type": "code",
   "execution_count": 37,
   "metadata": {
    "collapsed": false,
    "scrolled": true
   },
   "outputs": [
    {
     "ename": "IOError",
     "evalue": "[Errno 2] No such file or directory: '../../theme/custom.css'",
     "output_type": "error",
     "traceback": [
      "\u001b[0;31m---------------------------------------------------------------------------\u001b[0m",
      "\u001b[0;31mIOError\u001b[0m                                   Traceback (most recent call last)",
      "\u001b[0;32m<ipython-input-37-c19257805ab8>\u001b[0m in \u001b[0;36m<module>\u001b[0;34m()\u001b[0m\n\u001b[1;32m      4\u001b[0m     \u001b[0mstyles\u001b[0m \u001b[0;34m=\u001b[0m \u001b[0mopen\u001b[0m\u001b[0;34m(\u001b[0m\u001b[0;34m\"../../theme/custom.css\"\u001b[0m\u001b[0;34m,\u001b[0m \u001b[0;34m\"r\"\u001b[0m\u001b[0;34m)\u001b[0m\u001b[0;34m.\u001b[0m\u001b[0mread\u001b[0m\u001b[0;34m(\u001b[0m\u001b[0;34m)\u001b[0m\u001b[0;34m\u001b[0m\u001b[0m\n\u001b[1;32m      5\u001b[0m     \u001b[0;32mreturn\u001b[0m \u001b[0mHTML\u001b[0m\u001b[0;34m(\u001b[0m\u001b[0mstyles\u001b[0m\u001b[0;34m)\u001b[0m\u001b[0;34m\u001b[0m\u001b[0m\n\u001b[0;32m----> 6\u001b[0;31m \u001b[0mcss_styling\u001b[0m\u001b[0;34m(\u001b[0m\u001b[0;34m)\u001b[0m\u001b[0;34m\u001b[0m\u001b[0m\n\u001b[0m",
      "\u001b[0;32m<ipython-input-37-c19257805ab8>\u001b[0m in \u001b[0;36mcss_styling\u001b[0;34m()\u001b[0m\n\u001b[1;32m      2\u001b[0m \u001b[0;32mfrom\u001b[0m \u001b[0mIPython\u001b[0m\u001b[0;34m.\u001b[0m\u001b[0mcore\u001b[0m\u001b[0;34m.\u001b[0m\u001b[0mdisplay\u001b[0m \u001b[0;32mimport\u001b[0m \u001b[0mHTML\u001b[0m\u001b[0;34m\u001b[0m\u001b[0m\n\u001b[1;32m      3\u001b[0m \u001b[0;32mdef\u001b[0m \u001b[0mcss_styling\u001b[0m\u001b[0;34m(\u001b[0m\u001b[0;34m)\u001b[0m\u001b[0;34m:\u001b[0m\u001b[0;34m\u001b[0m\u001b[0m\n\u001b[0;32m----> 4\u001b[0;31m     \u001b[0mstyles\u001b[0m \u001b[0;34m=\u001b[0m \u001b[0mopen\u001b[0m\u001b[0;34m(\u001b[0m\u001b[0;34m\"../../theme/custom.css\"\u001b[0m\u001b[0;34m,\u001b[0m \u001b[0;34m\"r\"\u001b[0m\u001b[0;34m)\u001b[0m\u001b[0;34m.\u001b[0m\u001b[0mread\u001b[0m\u001b[0;34m(\u001b[0m\u001b[0;34m)\u001b[0m\u001b[0;34m\u001b[0m\u001b[0m\n\u001b[0m\u001b[1;32m      5\u001b[0m     \u001b[0;32mreturn\u001b[0m \u001b[0mHTML\u001b[0m\u001b[0;34m(\u001b[0m\u001b[0mstyles\u001b[0m\u001b[0;34m)\u001b[0m\u001b[0;34m\u001b[0m\u001b[0m\n\u001b[1;32m      6\u001b[0m \u001b[0mcss_styling\u001b[0m\u001b[0;34m(\u001b[0m\u001b[0;34m)\u001b[0m\u001b[0;34m\u001b[0m\u001b[0m\n",
      "\u001b[0;31mIOError\u001b[0m: [Errno 2] No such file or directory: '../../theme/custom.css'"
     ]
    }
   ],
   "source": [
    "# Code for setting the style of the notebook\n",
    "from IPython.core.display import HTML\n",
    "def css_styling():\n",
    "    styles = open(\"../../theme/custom.css\", \"r\").read()\n",
    "    return HTML(styles)\n",
    "css_styling()"
   ]
  },
  {
   "cell_type": "code",
   "execution_count": null,
   "metadata": {
    "collapsed": true
   },
   "outputs": [],
   "source": []
  }
 ],
 "metadata": {
  "kernelspec": {
   "display_name": "Python 2",
   "language": "python",
   "name": "python2"
  },
  "language_info": {
   "codemirror_mode": {
    "name": "ipython",
    "version": 2
   },
   "file_extension": ".py",
   "mimetype": "text/x-python",
   "name": "python",
   "nbconvert_exporter": "python",
   "pygments_lexer": "ipython2",
   "version": "2.7.11"
  }
 },
 "nbformat": 4,
 "nbformat_minor": 0
}
