{
 "cells": [
  {
   "cell_type": "markdown",
   "metadata": {},
   "source": [
    "(In order to load the stylesheet of this notebook, execute the last code cell in this notebook)"
   ]
  },
  {
   "cell_type": "markdown",
   "metadata": {},
   "source": [
    "# Stack Overflow"
   ]
  },
  {
   "cell_type": "markdown",
   "metadata": {},
   "source": [
    "## Introduction "
   ]
  },
  {
   "cell_type": "markdown",
   "metadata": {},
   "source": [
    "In this assignment, we will look at some posts on Stack Overflow during the year of 2015 and measure the similarity of users by looking at the types of questions they answer. We will also analyze the creation dates of questions."
   ]
  },
  {
   "cell_type": "markdown",
   "metadata": {},
   "source": [
    "## Step 0. Preparation"
   ]
  },
  {
   "cell_type": "markdown",
   "metadata": {},
   "source": [
    "Before we start working on the notebook, let's make sure that everything is setup properly. You should have downloaded and installed\n",
    "* [Anaconda](https://store.continuum.io/cshop/anaconda/)\n",
    "* [Git](http://git-scm.com/downloads)\n",
    "\n",
    "If you are working from the undergraduate lab (on a linux machine) these are both installed, but you need to follow the instructions [from here](https://github.com/datascience16/lectures/blob/master/Lecture2/Getting-Started.ipynb).\n",
    "\n"
   ]
  },
  {
   "cell_type": "markdown",
   "metadata": {},
   "source": [
    "## Step 1. Getting the data"
   ]
  },
  {
   "cell_type": "markdown",
   "metadata": {},
   "source": [
    "Let's make a sample request to retrieve the questions posted on Stack Exchange on the first day of 2015. Documentation of the Stack Exchange API can be found [here](https://api.stackexchange.com/docs)."
   ]
  },
  {
   "cell_type": "markdown",
   "metadata": {},
   "source": [
    "Changed the input to a formattable query string so I can reuse it in future parts."
   ]
  },
  {
   "cell_type": "code",
   "execution_count": null,
   "metadata": {
    "collapsed": false,
    "scrolled": true
   },
   "outputs": [],
   "source": [
    "import requests\n",
    "\n",
    "start_time = 1420070400 # 01-01-2015 at 00:00:00\n",
    "end_time   = 1420156800 # 01-02-2015 at 00:00:00\n",
    "\n",
    "query_string = 'https://api.stackexchange.com/2.2/questions?page={0}&pagesize=100' \\\n",
    "                '&fromdate={1}&todate={2}' \\\n",
    "                '&order=asc&sort=creation&site=stackoverflow'.format(str(1), str(start_time), str(end_time))\n",
    "        \n",
    "response = requests.get(query_string)\n",
    "print response"
   ]
  },
  {
   "cell_type": "markdown",
   "metadata": {},
   "source": [
    "All dates in the Stack Exchange API are in [unix epoch time](https://en.wikipedia.org/wiki/Unix_time). The format for the request string is specified [here](https://api.stackexchange.com/docs/questions)."
   ]
  },
  {
   "cell_type": "markdown",
   "metadata": {},
   "source": [
    "We can try to print the response that Stack Exchange returns."
   ]
  },
  {
   "cell_type": "code",
   "execution_count": null,
   "metadata": {
    "collapsed": false
   },
   "outputs": [],
   "source": [
    "print response.text"
   ]
  },
  {
   "cell_type": "markdown",
   "metadata": {},
   "source": [
    "It is not possible to read the raw response. Instead, we need to decode the raw response as JSON and use the `json` library to print it."
   ]
  },
  {
   "cell_type": "code",
   "execution_count": null,
   "metadata": {
    "collapsed": false
   },
   "outputs": [],
   "source": [
    "import json\n",
    "\n",
    "print json.dumps(response.json(), indent=2)"
   ]
  },
  {
   "cell_type": "markdown",
   "metadata": {},
   "source": [
    "Now we can easily see that the response consists of a list of question items. For each of these items, we get information about its attributes such as its `creation_date`, `answer_count`, `owner`, `title`, etc.\n",
    "\n",
    "Notice that has_more is true. To get more items, we can [request the next page](https://api.stackexchange.com/docs/paging)."
   ]
  },
  {
   "cell_type": "markdown",
   "metadata": {},
   "source": [
    "-----------------"
   ]
  },
  {
   "cell_type": "markdown",
   "metadata": {},
   "source": [
    "## Step 2. Parsing the responses"
   ]
  },
  {
   "cell_type": "markdown",
   "metadata": {},
   "source": [
    "In this section, we practice some of the basic Python tools that we learned in class and the powerful string handling methods that Python offers. Our goal is to be able to pick the interesting parts of the response and transform them in a format that will be useful to us."
   ]
  },
  {
   "cell_type": "markdown",
   "metadata": {},
   "source": [
    "First let's isolate the creation_date in the response. Fill in the rest of the ```print_creation_dates_json()``` function that reads the response and prints the creation dates. Notice that a JSON object is basically a dictionary. **(5 pts)**"
   ]
  },
  {
   "cell_type": "code",
   "execution_count": null,
   "metadata": {
    "collapsed": false
   },
   "outputs": [],
   "source": [
    "def print_creation_dates_json(response):\n",
    "    \"\"\"\n",
    "    Prints the creation_date of all the questions in the response.\n",
    "    \n",
    "    Parameters:\n",
    "        response: Response object\n",
    "    \"\"\"\n",
    "    for entry in response['items']:\n",
    "        print entry['creation_date']\n",
    "    "
   ]
  },
  {
   "cell_type": "markdown",
   "metadata": {},
   "source": [
    "Write the code that calls the ```print_creation_dates_json()``` function to print out all the creation dates of questions posted on the first day in 2015. Please be aware of Stack Exchange's [rate limit](https://api.stackexchange.com/docs/throttle). **(5 pts)**"
   ]
  },
  {
   "cell_type": "markdown",
   "metadata": {},
   "source": [
    "Explanation of the following code:\n",
    "\n",
    "Grabs 1 page at a time and prints all the creation dates on that page, checks for more pages and repeats if there are more pages to do by incrementing the page variable."
   ]
  },
  {
   "cell_type": "code",
   "execution_count": null,
   "metadata": {
    "collapsed": false
   },
   "outputs": [],
   "source": [
    "import json\n",
    "import requests\n",
    "\n",
    "start_time = 1420070400 # 01-01-2015 at 00:00:00\n",
    "end_time   = 1420156800 # 01-02-2015 at 00:00:00\n",
    "page = 1\n",
    "query_string = 'https://api.stackexchange.com/2.2/questions?page={0}&pagesize=100' \\\n",
    "                '&fromdate={1}&todate={2}' \\\n",
    "                '&order=asc&sort=creation&site=stackoverflow'.format(str(page), str(start_time), str(end_time))\n",
    "\n",
    "response = requests.get(query_string).json()\n",
    "print_creation_dates_json(response)\n",
    "\n",
    "while(response['has_more'] == True):\n",
    "    page = page + 1\n",
    "    query_string = 'https://api.stackexchange.com/2.2/questions?page={0}&pagesize=100' \\\n",
    "                '&fromdate={1}&todate={2}' \\\n",
    "                '&order=asc&sort=creation&site=stackoverflow'.format(str(page), str(start_time), str(end_time))\n",
    "    response = requests.get(query_string).json()\n",
    "    print_creation_dates_json(response)"
   ]
  },
  {
   "cell_type": "markdown",
   "metadata": {},
   "source": [
    "Due to time constraints, we have downloaded the [data dump](http://cs-people.bu.edu/kzhao/teaching/stackoverflow-posts-2015.tar.gz) for Stack Overflow's posts in 2015. Note that this file is 10GB. If you don't have space on your computer, you can download it into `/scratch` on one of the machines in the undergrad lab or you can download it onto a USB. You may also want to work with a subset of this data at first, but your solution should be efficient enough to work with the whole dataset. For example, if you call `read()` on this file, you will get a `MemoryError`.\n",
    "\n",
    "Write a function to parse out the questions posted in 2015. These are posts with `PostTypeId=1`. Make a `pandas DataFrame` with 4 columns: `Id`, `CreationDate`, `OwnerUserId`, and the first tag in `Tags`. Save the `DataFrame` to a file named `question_dataframe.csv`. **(10 pts)**"
   ]
  },
  {
   "cell_type": "markdown",
   "metadata": {},
   "source": [
    "Explanation of the following code:\n",
    "\n",
    "Uses the ElementTree library to parse the xml file and create a list of dictionaries with the information needed. Then adds all the data into a DataFrame and saves it as \"question_dataframe.csv\""
   ]
  },
  {
   "cell_type": "code",
   "execution_count": 1,
   "metadata": {
    "collapsed": false
   },
   "outputs": [],
   "source": [
    "import pandas as pd\n",
    "import xml.etree.cElementTree as etree\n",
    "\n",
    "inputs = []\n",
    "\n",
    "# assuming there exists a file \"stackoverflow-posts-2015.xml\" in the same directory as this file\n",
    "tree = etree.parse('stackoverflow-posts-2015.xml')\n",
    "root = tree.getroot()\n",
    "\n",
    "for elem in root:\n",
    "    if elem.get('PostTypeId') == '1':\n",
    "        tags = elem.get('Tags')\n",
    "        inputs.append({\n",
    "                'Id' : elem.get('Id'), \n",
    "                'CreationDate' : elem.get('CreationDate'),\n",
    "                'OwnerUserId' : elem.get('OwnerUserId'), \n",
    "                'Tags' : tags[1:tags.index('>')]\n",
    "            })\n",
    "df = pd.DataFrame(inputs, columns=['Id', 'CreationDate', 'OwnerUserId', 'Tags'])\n",
    "df.to_csv('question_dataframe.csv')\n",
    "        "
   ]
  },
  {
   "cell_type": "code",
   "execution_count": 2,
   "metadata": {
    "collapsed": false,
    "scrolled": true
   },
   "outputs": [
    {
     "name": "stdout",
     "output_type": "stream",
     "text": [
      "               Id             CreationDate  OwnerUserId            Tags\n",
      "0        27727385  2015-01-01T00:00:58.253      3210431             php\n",
      "1        27727388  2015-01-01T00:01:43.673       868779      apache-pig\n",
      "2        27727391  2015-01-01T00:02:32.123      4372672             ios\n",
      "3        27727393  2015-01-01T00:02:57.983      2482149      sql-server\n",
      "4        27727394  2015-01-01T00:03:31.337      4263870             php\n",
      "5        27727396  2015-01-01T00:04:01.407      4409381         android\n",
      "6        27727406  2015-01-01T00:05:03.773       875317              c#\n",
      "7        27727407  2015-01-01T00:05:27.167       821742            java\n",
      "8        27727408  2015-01-01T00:05:34.733      2595033              c#\n",
      "9        27727409  2015-01-01T00:06:17.720      1815395          apache\n",
      "10       27727410  2015-01-01T00:06:41.067       541091           mysql\n",
      "11       27727414  2015-01-01T00:07:28.747      1210038      javascript\n",
      "12       27727418  2015-01-01T00:07:39.243      3674356             php\n",
      "13       27727419  2015-01-01T00:07:46.460       347062            html\n",
      "14       27727424  2015-01-01T00:09:28.247      1254618         collada\n",
      "15       27727427  2015-01-01T00:10:05.340      3412951   ruby-on-rails\n",
      "16       27727429  2015-01-01T00:10:29.963      1743377      javascript\n",
      "17       27727433  2015-01-01T00:11:43.463       169992               c\n",
      "18       27727434  2015-01-01T00:12:02.597      4056620             ios\n",
      "19       27727439  2015-01-01T00:12:55.513      2993567            java\n",
      "20       27727442  2015-01-01T00:13:04.980      3085148      powershell\n",
      "21       27727444  2015-01-01T00:13:32.583      2457761            java\n",
      "22       27727446  2015-01-01T00:13:50.463      4371259         node.js\n",
      "23       27727455  2015-01-01T00:15:40.250      3802790             ios\n",
      "24       27727459  2015-01-01T00:17:11.113      2227834               c\n",
      "25       27727464  2015-01-01T00:18:50.297      4397115      javascript\n",
      "26       27727468  2015-01-01T00:22:16.780      3494499             ios\n",
      "27       27727477  2015-01-01T00:23:14.747      3286192         android\n",
      "28       27727481  2015-01-01T00:23:50.863      2999675             c++\n",
      "29       27727484  2015-01-01T00:24:28.103      4289580             php\n",
      "...           ...                      ...          ...             ...\n",
      "2530474  34552466  2015-12-31T23:42:01.600      5728911            java\n",
      "2530475  34552470  2015-12-31T23:42:45.380      1763652           mysql\n",
      "2530476  34552473  2015-12-31T23:44:33.663      4673488          python\n",
      "2530477  34552480  2015-12-31T23:45:33.357      5735042            java\n",
      "2530478  34552482  2015-12-31T23:45:48.310       831878               k\n",
      "2530479  34552483  2015-12-31T23:45:48.627       510296             dom\n",
      "2530480  34552486  2015-12-31T23:46:08.790      3035850            xmpp\n",
      "2530481  34552487  2015-12-31T23:46:10.497      5735090            ruby\n",
      "2530482  34552488  2015-12-31T23:46:12.693      5299726         windows\n",
      "2530483  34552492  2015-12-31T23:47:07.157      1108057             php\n",
      "2530484  34552500  2015-12-31T23:48:17.143      5735067             tcp\n",
      "2530485  34552501  2015-12-31T23:48:54.070      4838216           mysql\n",
      "2530486  34552504  2015-12-31T23:49:14.810      2665223       angularjs\n",
      "2530487  34552506  2015-12-31T23:50:00.363        15441            java\n",
      "2530488  34552508  2015-12-31T23:50:53.880       592888             api\n",
      "2530489  34552510  2015-12-31T23:51:22.323      5009786             osx\n",
      "2530490  34552511  2015-12-31T23:51:27.817      5735089             c++\n",
      "2530491  34552513  2015-12-31T23:51:36.167       254046            ruby\n",
      "2530492  34552515  2015-12-31T23:52:14.067       259602             uml\n",
      "2530493  34552519  2015-12-31T23:53:52.380      5618866               c\n",
      "2530494  34552527  2015-12-31T23:54:25.837       973158            html\n",
      "2530495  34552535  2015-12-31T23:56:12.397      2705042          vb.net\n",
      "2530496  34552536  2015-12-31T23:56:16.013      4991888      javascript\n",
      "2530497  34552539  2015-12-31T23:57:03.073       441016  actionscript-3\n",
      "2530498  34552540  2015-12-31T23:57:08.807      5377088           mysql\n",
      "2530499  34552543  2015-12-31T23:57:36.433      1040740            java\n",
      "2530500  34552547  2015-12-31T23:58:06.150      3909898             ios\n",
      "2530501  34552549  2015-12-31T23:59:30.960      1870790             c++\n",
      "2530502  34552827  2015-12-31T06:02:40.277      2340452           flask\n",
      "2530503  34558008  2015-12-14T02:47:06.173          NaN           mysql\n",
      "\n",
      "[2530504 rows x 4 columns]\n"
     ]
    }
   ],
   "source": [
    "import pandas\n",
    "\n",
    "question_df = pandas.read_csv('question_dataframe.csv')\n",
    "question_df = question_df.drop('Unnamed: 0', axis = 1) # Drop the extra column generated by reading a CSV file\n",
    "print question_df"
   ]
  },
  {
   "cell_type": "markdown",
   "metadata": {},
   "source": [
    "-----------------"
   ]
  },
  {
   "cell_type": "markdown",
   "metadata": {},
   "source": [
    "## Step 3. Putting it all together"
   ]
  },
  {
   "cell_type": "markdown",
   "metadata": {},
   "source": [
    "We are now ready to tackle our original problem. Write a function to measure the similarity of the top 1000 users with the most answer posts. Compare the users based on the types of questions they answer. We will categorize the questions by looking at the first tag in each question. You may choose to implement any one of the similarity/distance measures we discussed in class. Document your findings. **(30pts)**\n",
    "\n",
    "Note that answers are posts with `PostTypeId=2`. The ID of the question in answer posts is the `ParentId`.\n",
    "\n",
    "You may find the [sklearn.feature_extraction module](http://scikit-learn.org/stable/modules/feature_extraction.html) helpful."
   ]
  },
  {
   "cell_type": "markdown",
   "metadata": {},
   "source": [
    "Explanation of the following code segment:\n",
    "\n",
    "The xml file is parsed and creates two dictionaries\n",
    "    1) users - userId : (num of answered posts, [questionIds they answered])\n",
    "    2) questionToTags - questionId : that questions tag\n",
    "\n",
    "Then it sorts the users dictionary into a list of the 1000 most active users and the questions they have answered so that entry 0 is the most active user. Using this list, replace the questions with their appropriate tags from the questionToTags dictionary. Compiles a distinct list of all the tags and makes another list with (userIds, {tags: number of answers to that tag}).\n",
    "\n",
    "Finally the hammingDistance is applied to each user comparing them to all tags to see how many different tags there are and how many topics the top users cover.\n",
    "\n",
    "Jaccard Distance has also been implemented to compare users to other users and see how similar two users are. The closer to 0 the more similar 2 users are."
   ]
  },
  {
   "cell_type": "code",
   "execution_count": 3,
   "metadata": {
    "collapsed": false,
    "scrolled": false
   },
   "outputs": [
    {
     "name": "stdout",
     "output_type": "stream",
     "text": [
      "Total number of tags = 2362\n",
      "How many tags a user hasn't responded to\n",
      "[2313, 1938, 2317, 2347, 2315, 2297, 2329, 2327, 2345, 2356, 2301, 2190, 2352, 2343, 2333, 2352, 2323, 2282, 2306, 2360, 2316, 2325, 2354, 2277, 2323, 2341, 2344, 2323, 2261, 2348, 2351, 2303, 2346, 2341, 2342, 2358, 2304, 2332, 2332, 2308, 2352, 2348, 2340, 2349, 2269, 2337, 2319, 2265, 2346, 2314, 2354, 2316, 2323, 2331, 2264, 2348, 2350, 2361, 2304, 2319, 2354, 2347, 2350, 2321, 2336, 2303, 2225, 2332, 2358, 2339, 2310, 2329, 2297, 2311, 2352, 2331, 2288, 2240, 2329, 2335, 2309, 2344, 2345, 2313, 2320, 2331, 2338, 2302, 2315, 2341, 2326, 2329, 2312, 2318, 2353, 2317, 2319, 2329, 2289, 2282, 2333, 2310, 2353, 2301, 2316, 2335, 2291, 2356, 2358, 2350, 2352, 2346, 2350, 2322, 2301, 2315, 2319, 2346, 2355, 2314, 2352, 2339, 2351, 2292, 2297, 2331, 2292, 2344, 2319, 2323, 2304, 2350, 2311, 2353, 2319, 2331, 2331, 2304, 2307, 2346, 2350, 2352, 2352, 2352, 2329, 2352, 2343, 2293, 2343, 2357, 2276, 2341, 2347, 2329, 2332, 2220, 2321, 2345, 2344, 2350, 2357, 2355, 2339, 2355, 2354, 2351, 2346, 2257, 2354, 2311, 2240, 2308, 2348, 2325, 2322, 2354, 2330, 2305, 2310, 2330, 2344, 2344, 2346, 2293, 2257, 2323, 2331, 2296, 2316, 2342, 2330, 2345, 2353, 2318, 2339, 2347, 2351, 2349, 2337, 2357, 2316, 2357, 2312, 2342, 2334, 2250, 2324, 2351, 2317, 2350, 2350, 2347, 2352, 2357, 2343, 2320, 2322, 2347, 2333, 2348, 2336, 2339, 2353, 2330, 2340, 2267, 2341, 2333, 2299, 2351, 2320, 2358, 2339, 2334, 2335, 2335, 2335, 2325, 2358, 2351, 2337, 2354, 2349, 2356, 2318, 2338, 2326, 2341, 2319, 2312, 2323, 2341, 2352, 2340, 2330, 2342, 2357, 2345, 2307, 2327, 2350, 2356, 2343, 2356, 2345, 2346, 2341, 2333, 2347, 2345, 2329, 2299, 2347, 2349, 2357, 2321, 2348, 2289, 2320, 2343, 2351, 2352, 2357, 2344, 2329, 2348, 2336, 2336, 2342, 2355, 2305, 2321, 2354, 2351, 2291, 2351, 2349, 2303, 2307, 2322, 2330, 2322, 2348, 2360, 2322, 2312, 2335, 2354, 2352, 2325, 2348, 2343, 2338, 2326, 2353, 2338, 2355, 2354, 2340, 2356, 2350, 2340, 2355, 2354, 2313, 2351, 2326, 2353, 2355, 2350, 2328, 2332, 2356, 2317, 2341, 2340, 2311, 2354, 2352, 2355, 2346, 2353, 2301, 2331, 2275, 2318, 2333, 2350, 2320, 2346, 2329, 2332, 2351, 2342, 2331, 2351, 2322, 2317, 2356, 2350, 2323, 2333, 2339, 2329, 2352, 2352, 2354, 2326, 2347, 2307, 2352, 2351, 2346, 2354, 2354, 2348, 2342, 2331, 2343, 2330, 2309, 2346, 2347, 2355, 2328, 2326, 2343, 2349, 2353, 2346, 2346, 2342, 2333, 2335, 2353, 2330, 2327, 2331, 2347, 2358, 2300, 2342, 2302, 2342, 2330, 2348, 2345, 2290, 2352, 2347, 2341, 2347, 2358, 2329, 2353, 2333, 2325, 2353, 2350, 2348, 2334, 2315, 2355, 2345, 2347, 2345, 2332, 2351, 2358, 2354, 2327, 2348, 2336, 2325, 2292, 2307, 2351, 2347, 2330, 2358, 2319, 2353, 2348, 2291, 2355, 2343, 2348, 2346, 2330, 2334, 2337, 2323, 2347, 2352, 2353, 2347, 2330, 2341, 2323, 2357, 2310, 2290, 2337, 2341, 2309, 2347, 2317, 2341, 2342, 2328, 2339, 2356, 2339, 2289, 2328, 2334, 2353, 2338, 2339, 2353, 2354, 2346, 2350, 2354, 2300, 2355, 2320, 2338, 2340, 2351, 2307, 2343, 2351, 2326, 2348, 2342, 2348, 2322, 2322, 2356, 2336, 2348, 2329, 2346, 2338, 2314, 2358, 2321, 2338, 2334, 2339, 2321, 2350, 2338, 2355, 2331, 2339, 2344, 2347, 2332, 2354, 2352, 2353, 2346, 2295, 2345, 2333, 2352, 2341, 2358, 2347, 2341, 2352, 2341, 2337, 2339, 2315, 2343, 2347, 2346, 2304, 2359, 2352, 2310, 2355, 2346, 2349, 2336, 2317, 2327, 2320, 2331, 2328, 2344, 2336, 2342, 2355, 2353, 2341, 2331, 2341, 2332, 2357, 2321, 2346, 2350, 2319, 2347, 2337, 2295, 2304, 2325, 2349, 2323, 2323, 2354, 2357, 2309, 2352, 2353, 2347, 2347, 2342, 2358, 2342, 2351, 2357, 2339, 2310, 2355, 2331, 2356, 2289, 2346, 2315, 2342, 2350, 2355, 2344, 2355, 2352, 2343, 2322, 2340, 2347, 2323, 2334, 2314, 2331, 2353, 2335, 2353, 2356, 2335, 2328, 2326, 2341, 2351, 2337, 2341, 2332, 2321, 2323, 2330, 2315, 2357, 2326, 2346, 2345, 2349, 2342, 2353, 2342, 2288, 2352, 2349, 2340, 2347, 2303, 2318, 2340, 2347, 2357, 2348, 2357, 2346, 2301, 2325, 2351, 2347, 2340, 2345, 2347, 2332, 2327, 2313, 2348, 2349, 2355, 2330, 2357, 2341, 2358, 2356, 2313, 2360, 2343, 2357, 2355, 2359, 2340, 2356, 2354, 2355, 2356, 2337, 2309, 2350, 2331, 2355, 2296, 2353, 2345, 2339, 2309, 2339, 2332, 2320, 2350, 2351, 2348, 2345, 2334, 2340, 2344, 2327, 2340, 2337, 2355, 2340, 2346, 2357, 2354, 2329, 2325, 2356, 2357, 2339, 2353, 2350, 2351, 2330, 2331, 2331, 2347, 2354, 2344, 2321, 2335, 2334, 2342, 2342, 2349, 2326, 2350, 2341, 2353, 2349, 2313, 2346, 2350, 2348, 2344, 2346, 2357, 2342, 2332, 2360, 2356, 2353, 2341, 2346, 2349, 2353, 2346, 2343, 2323, 2356, 2356, 2337, 2352, 2357, 2354, 2337, 2340, 2342, 2356, 2332, 2305, 2344, 2351, 2336, 2338, 2357, 2355, 2314, 2360, 2342, 2327, 2330, 2354, 2353, 2352, 2356, 2281, 2352, 2344, 2347, 2356, 2340, 2356, 2354, 2304, 2351, 2351, 2294, 2355, 2349, 2353, 2349, 2348, 2331, 2349, 2349, 2340, 2342, 2305, 2316, 2358, 2353, 2347, 2343, 2357, 2339, 2360, 2353, 2353, 2294, 2345, 2325, 2313, 2342, 2352, 2358, 2336, 2352, 2357, 2330, 2349, 2331, 2340, 2341, 2332, 2351, 2350, 2357, 2356, 2359, 2341, 2351, 2349, 2349, 2355, 2359, 2350, 2340, 2330, 2320, 2346, 2354, 2358, 2332, 2320, 2335, 2353, 2333, 2351, 2350, 2329, 2347, 2337, 2335, 2357, 2332, 2344, 2352, 2337, 2354, 2316, 2339, 2327, 2303, 2330, 2346, 2353, 2334, 2345, 2325, 2328, 2350, 2308, 2306, 2329, 2349, 2356, 2354, 2347, 2359, 2321, 2352, 2356, 2348, 2335, 2349, 2345, 2347, 2361, 2347, 2313, 2312, 2351, 2354, 2344, 2345, 2350, 2320, 2344, 2326, 2322, 2359, 2311, 2350, 2353, 2349, 2348, 2350, 2347, 2349, 2356, 2348, 2321, 2339, 2351, 2354, 2355, 2348, 2351, 2351, 2353, 2344, 2310, 2347, 2319, 2352, 2347, 2341, 2350, 2348, 2322, 2324, 2358, 2358, 2316, 2322, 2359, 2337, 2351, 2296, 2310, 2310, 2348, 2353, 2342, 2351, 2348, 2350, 2326, 2351, 2350, 2349, 2337, 2339, 2339, 2337, 2347, 2335, 2355, 2309, 2358, 2335, 2304, 2345, 2322, 2343, 2353, 2350, 2343, 2356, 2350, 2342, 2349, 2359, 2342, 2355, 2354, 2339, 2345, 2352, 2349, 2331, 2325, 2352, 2347, 2339, 2352, 2352, 2357, 2339, 2358, 2344, 2356, 2352, 2312, 2332, 2341, 2346, 2341, 2338, 2355, 2335]\n",
      "\n",
      " User-to-AllOtherUser Jaccard Distances\n",
      "['0.00', '0.93', '0.76', '0.77', '0.72', '0.76', '0.86', '0.62', '0.80', '0.88', '0.82', '0.88', '0.89', '0.85', '0.74', '0.87', '0.78', '0.88', '0.79', '0.96', '0.90', '0.94', '0.90', '0.71', '0.79', '0.79', '0.80', '0.79', '0.72', '0.79', '0.82', '0.79', '0.88', '0.65', '0.77', '0.94', '0.87', '0.68', '0.73', '0.66', '0.87', '0.88', '0.73', '0.89', '0.86', '0.86', '0.84', '0.86', '0.86', '0.87', '0.86', '0.81', '0.84', '0.79', '0.73', '0.83', '0.83', '0.98', '0.90', '0.70', '0.88', '0.75', '0.89', '0.73', '0.77', '0.73', '0.83', '0.78', '0.92', '0.84', '0.81', '0.89', '0.94', '0.81', '0.89', '0.69', '0.81', '0.90', '0.89', '0.81', '0.88', '0.90', '0.84', '0.90', '0.77', '0.81', '0.88', '0.78', '0.84', '0.75', '0.84', '0.76', '0.82', '0.82', '0.88', '0.76', '0.85', '0.76', '0.84', '0.82', '0.82', '0.80', '0.91', '0.90', '0.84', '0.83', '0.85', '0.90', '0.96', '0.83', '0.87', '0.80', '0.83', '0.69', '0.80', '0.90', '0.74', '0.90', '0.86', '0.74', '0.93', '0.78', '0.85', '0.95', '0.82', '0.69', '0.75', '0.82', '0.69', '0.86', '0.87', '0.87', '0.75', '0.86', '0.92', '0.64', '0.64', '0.87', '0.78', '0.82', '0.89', '0.87', '0.89', '0.87', '0.81', '0.82', '0.87', '0.94', '0.79', '0.90', '0.82', '0.81', '0.84', '0.74', '0.77', '0.88', '0.80', '0.82', '0.86', '0.85', '0.94', '0.88', '0.69', '0.86', '0.84', '0.80', '0.82', '0.88', '0.88', '0.82', '0.87', '0.86', '0.85', '0.75', '0.86', '0.86', '0.86', '0.80', '0.80', '0.77', '0.80', '0.69', '0.73', '0.82', '0.88', '0.81', '0.87', '0.83', '0.86', '0.83', '0.71', '0.75', '0.82', '0.81', '0.86', '0.88', '0.80', '0.85', '0.75', '0.96', '0.84', '0.92', '0.84', '0.77', '0.80', '0.89', '0.82', '0.80', '0.87', '0.80', '0.91', '0.86', '0.82', '0.90', '0.87', '0.86', '0.90', '0.86', '0.85', '0.88', '0.68', '0.88', '0.84', '0.86', '0.89', '0.93', '0.79', '0.92', '0.83', '0.82', '0.80', '0.94', '0.89', '0.90', '0.91', '0.75', '0.81', '0.70', '0.92', '0.85', '0.88', '0.86', '0.85', '0.90', '0.87', '0.84', '0.79', '0.91', '0.70', '0.79', '0.93', '0.85', '0.93', '0.82', '0.84', '0.92', '0.92', '0.73', '0.72', '0.80', '0.85', '0.90', '0.89', '0.92', '0.92', '0.86', '0.85', '0.85', '0.90', '0.71', '0.70', '0.89', '0.86', '0.91', '0.94', '0.78', '0.85', '0.86', '0.85', '0.76', '0.87', '0.84', '0.92', '0.92', '0.85', '0.89', '0.91', '0.77', '0.83', '0.90', '0.78', '0.83', '0.90', '0.85', '0.86', '0.85', '0.87', '0.84', '0.86', '0.71', '0.86', '0.89', '0.85', '0.96', '0.63', '0.88', '0.85', '0.88', '0.87', '0.75', '0.89', '0.74', '0.78', '0.88', '0.88', '0.89', '0.90', '0.90', '0.89', '0.92', '0.87', '0.71', '0.94', '0.90', '0.95', '0.87', '0.88', '0.88', '0.90', '0.85', '0.85', '0.82', '0.92', '0.85', '0.77', '0.73', '0.81', '0.90', '0.84', '0.90', '0.70', '0.91', '0.88', '0.84', '0.90', '0.87', '0.78', '0.83', '0.88', '0.84', '0.85', '0.89', '0.82', '0.79', '0.84', '0.82', '0.76', '0.85', '0.90', '0.80', '0.86', '0.84', '0.78', '0.79', '0.82', '0.84', '0.86', '0.84', '0.79', '0.84', '0.82', '0.87', '0.75', '0.90', '0.88', '0.88', '0.90', '0.86', '0.76', '0.79', '0.85', '0.82', '0.84', '0.90', '0.81', '0.84', '0.79', '0.95', '0.88', '0.93', '0.93', '0.83', '0.80', '0.79', '0.84', '0.86', '0.88', '0.86', '0.88', '0.92', '0.72', '0.77', '0.78', '0.89', '0.83', '0.79', '0.88', '0.90', '0.84', '0.79', '0.83', '0.84', '0.94', '0.83', '0.84', '0.82', '0.84', '0.93', '0.87', '0.91', '0.83', '0.81', '0.88', '0.84', '0.86', '0.86', '0.78', '0.91', '0.92', '0.86', '0.75', '0.83', '0.81', '0.81', '0.79', '0.67', '0.78', '0.88', '0.86', '0.92', '0.79', '0.91', '0.91', '0.85', '0.88', '0.87', '0.88', '0.84', '0.88', '0.78', '0.88', '0.86', '0.79', '0.87', '0.91', '0.93', '0.86', '0.81', '0.78', '0.90', '0.83', '0.81', '0.68', '0.91', '0.69', '0.92', '0.68', '0.83', '0.85', '0.89', '0.88', '0.92', '0.93', '0.91', '0.78', '0.83', '0.91', '0.86', '0.76', '0.93', '0.86', '0.84', '0.87', '0.96', '0.86', '0.88', '0.77', '0.89', '0.78', '0.89', '0.83', '0.85', '0.85', '0.90', '0.83', '0.94', '0.91', '0.84', '0.73', '0.92', '0.79', '0.81', '0.83', '0.88', '0.80', '0.89', '0.92', '0.80', '0.78', '0.80', '0.67', '0.78', '0.78', '0.82', '0.86', '0.84', '0.84', '0.86', '0.88', '0.80', '0.86', '0.89', '0.93', '0.77', '0.91', '0.82', '0.82', '0.89', '0.91', '0.94', '0.79', '0.81', '0.89', '0.77', '0.86', '0.78', '0.84', '0.85', '0.81', '0.84', '0.85', '0.96', '0.87', '0.80', '0.88', '0.86', '0.81', '0.88', '0.71', '0.85', '0.83', '0.73', '0.89', '0.84', '0.83', '0.77', '0.90', '0.86', '0.89', '0.79', '0.73', '0.87', '0.94', '0.75', '0.84', '0.85', '0.77', '0.81', '0.90', '0.78', '0.82', '0.88', '0.87', '0.81', '0.76', '0.86', '0.92', '0.90', '0.84', '0.88', '0.88', '0.81', '0.87', '0.92', '0.77', '0.87', '0.92', '0.84', '0.88', '0.90', '0.79', '0.92', '0.83', '0.86', '0.81', '0.77', '0.83', '0.92', '0.82', '0.94', '0.91', '0.87', '0.90', '0.85', '0.90', '0.83', '0.85', '0.83', '0.92', '0.82', '0.88', '0.86', '0.92', '0.91', '0.94', '0.80', '0.89', '0.85', '0.81', '0.79', '0.87', '0.94', '0.90', '0.89', '0.83', '0.94', '0.84', '0.77', '0.84', '0.91', '0.85', '0.93', '0.77', '0.85', '0.93', '0.85', '0.91', '0.81', '0.85', '0.84', '0.89', '0.90', '0.92', '0.91', '0.96', '0.92', '0.94', '0.88', '0.82', '0.72', '0.85', '0.88', '0.88', '0.68', '0.73', '0.71', '0.91', '0.78', '0.92', '0.73', '0.92', '0.91', '0.92', '0.92', '0.87', '0.96', '0.89', '0.90', '0.88', '0.94', '0.82', '0.92', '0.86', '0.92', '0.92', '0.79', '0.89', '0.91', '0.89', '0.88', '0.74', '0.86', '0.82', '0.80', '0.90', '0.78', '0.84', '0.88', '0.85', '0.85', '0.88', '0.88', '0.90', '0.69', '0.82', '0.82', '0.71', '0.83', '0.86', '0.89', '0.88', '0.96', '0.90', '0.81', '0.87', '0.90', '0.92', '0.89', '0.93', '0.85', '0.82', '0.83', '0.82', '0.86', '0.88', '0.88', '0.84', '0.86', '0.87', '0.88', '0.83', '0.75', '0.89', '0.75', '0.87', '0.79', '0.86', '0.89', '0.78', '0.92', '0.93', '0.91', '0.92', '0.82', '0.90', '0.90', '0.86', '0.96', '0.90', '0.88', '0.79', '0.82', '0.83', '0.84', '0.90', '0.76', '0.84', '0.88', '0.88', '0.88', '0.87', '0.98', '0.86', '0.79', '0.87', '0.85', '0.96', '0.78', '0.80', '0.94', '0.91', '0.81', '0.80', '0.90', '0.88', '0.69', '0.96', '0.89', '0.88', '0.84', '0.92', '0.84', '0.93', '0.88', '0.88', '0.84', '0.76', '0.90', '0.90', '0.85', '0.88', '0.92', '0.76', '0.91', '0.89', '0.79', '0.92', '0.85', '0.88', '0.85', '0.88', '0.79', '0.85', '0.89', '0.92', '0.75', '0.85', '0.88', '0.92', '0.86', '0.77', '0.89', '0.92', '0.93', '0.96', '0.84', '0.88', '0.89', '0.80', '0.74', '0.91', '0.81', '0.87', '0.94', '0.85', '0.84', '0.94', '0.86', '0.83', '0.84', '0.87', '0.83', '0.86', '0.93', '0.87', '0.92', '0.88', '0.94', '0.81', '0.89', '0.81', '0.85', '0.88', '0.94', '0.87', '0.87', '0.83', '0.79', '0.90', '0.88', '0.94', '0.80', '0.75', '0.88', '0.86', '0.92', '0.85', '0.78', '0.94', '0.81', '0.81', '0.87', '0.92', '0.90', '0.84', '0.89', '0.84', '0.90', '0.88', '0.82', '0.82', '0.92', '0.89', '0.86', '0.93', '0.92', '0.86', '0.87', '0.80', '0.76', '0.84', '0.96', '0.81', '0.83', '0.90', '0.92', '0.84', '0.94', '0.86', '0.87', '0.90', '0.89', '0.85', '0.85', '0.80', '0.88', '0.98', '0.84', '0.91', '0.86', '0.93', '0.84', '0.86', '0.94', '0.87', '0.82', '0.80', '0.91', '0.84', '0.98', '0.84', '0.85', '0.88', '0.85', '0.91', '0.83', '0.86', '0.85', '0.90', '0.88', '0.85', '0.84', '0.91', '0.92', '0.96', '0.85', '0.89', '0.91', '0.93', '0.74', '0.89', '0.84', '0.79', '0.87', '0.79', '0.79', '0.85', '0.74', '0.87', '0.76', '0.92', '0.94', '0.90', '0.80', '0.94', '0.88', '0.80', '0.90', '0.81', '0.90', '0.81', '0.86', '0.79', '0.78', '0.76', '0.80', '0.84', '0.95', '0.83', '0.85', '0.81', '0.84', '0.76', '0.86', '0.77', '0.73', '0.90', '0.81', '0.92', '0.79', '0.92', '0.88', '0.78', '0.85', '0.86', '0.85', '0.85', '0.92', '0.91', '0.94', '0.89', '0.94', '0.83', '0.92', '0.84', '0.82', '0.80', '0.91', '0.89', '0.79', '0.87', '0.89', '0.90', '0.94', '0.89', '0.87', '0.94', '0.88', '0.92', '0.88', '0.88', '0.87', '0.89', '0.82', '0.83', '0.92', '0.89', '0.91', '0.88', '0.87']\n"
     ]
    }
   ],
   "source": [
    "from operator import itemgetter\n",
    "from collections import Counter\n",
    "import pandas as pd\n",
    "import xml.etree.cElementTree as etree\n",
    "\n",
    "def hammingDistance(userAndTags, allTags):\n",
    "    (id, tags) = userAndTags\n",
    "    return len(allTags) - len(tags)\n",
    "\n",
    "def jaccardDistance(user1, user2):\n",
    "    return format( 1.0 - float(len(user1.intersection(user2))) / float(len(user1.union(user2))), '.2f' )\n",
    "\n",
    "jaccardDistances = []\n",
    "\n",
    "def extractData():\n",
    "    users = {}\n",
    "    questionToTags = {}\n",
    "    \n",
    "    # assuming there exists a file \"stackoverflow-posts-2015.xml\" in the same directory as this file\n",
    "    tree = etree.parse('stackoverflow-posts-2015.xml')\n",
    "    root = tree.getroot()\n",
    "\n",
    "    '''\n",
    "    Populates a dictionary users with userId : (count of answer posts, questions posted to)\n",
    "    Populates a dictionary questionsToTags with their first tag\n",
    "    '''\n",
    "    for elem in root:\n",
    "        if elem.get('PostTypeId') == '2':\n",
    "            ownerId = elem.get('OwnerUserId')\n",
    "            if ownerId in users:\n",
    "                (count, questionIds) = users[ownerId]\n",
    "                count = count + 1\n",
    "                if elem.get('ParentId') not in questionIds:\n",
    "                    questionIds.append(elem.get('ParentId'))\n",
    "                users[ownerId] = (count, questionIds)\n",
    "            else:\n",
    "                users[ownerId] = (1, [elem.get('ParentId')])\n",
    "        if elem.get('PostTypeId') == '1':\n",
    "            questionToTags[elem.get('Id')] = elem.get('Tags')[1:elem.get('Tags').index('>')]\n",
    "\n",
    "    # sorts users into a list based on the number of posts they have\n",
    "    sortedUsers = sorted(users.iteritems(), key=itemgetter(1), reverse=True)[0:1000]\n",
    "\n",
    "    # makes a list of (userId, [tags])\n",
    "    usersAndTags = [(id, [questionToTags.get(questionId) for questionId in questionIds]) for (id, (count, questionIds)) in sortedUsers]\n",
    "    \n",
    "    # a list of all the tags and their counts\n",
    "    allTags = Counter([tag for (id, tags) in usersAndTags for tag in tags])\n",
    "    \n",
    "    # makes a list of (userId, [tags and their count occurences])\n",
    "    usersToTagCounts = [(id, dict(Counter(tags))) for (id, tags) in usersAndTags]\n",
    "    \n",
    "    hammingDistances = [hammingDistance(users, allTags) for users in usersToTagCounts]\n",
    "    for user in usersToTagCounts:\n",
    "        jaccardDistances.append([jaccardDistance(set(user[1].keys()), set(user2[1].keys())) for user2 in usersToTagCounts])\n",
    "\n",
    "    print 'Total number of tags = ' + str(len(allTags))\n",
    "    print 'How many tags a user hasn\\'t responded to'\n",
    "    print hammingDistances\n",
    "    \n",
    "    # only printing 1 so ipython doesn't crash from printing 1000 arrays of size 1000\n",
    "    print '\\n User-to-AllOtherUser Jaccard Distances'\n",
    "    print jaccardDistances[0]\n",
    "\n",
    "extractData()\n"
   ]
  },
  {
   "cell_type": "markdown",
   "metadata": {},
   "source": [
    "Analysis of Results:\n",
    "\n",
    "Hamming Distance: Most of the top 1000 users did not answer questions with over 50 different tags, suggesting that users only answer questions in topics that they are most comfortable with. There were a couple users with lots of topics, the highest being ~20%, but without looking at the topics to see how similar/different they are it is hard to say whether or not they are answering across multiple topics or just very similar tags that could be clustered into one grouping. The results from this Hamming Distance would be a lot more interesting if the ~2300 tags were combined into less than 100 clusters, but that is out of the scope of this project. \n",
    "\n",
    "Jaccard Distances: Plotting out all the Jaccard Distances would crash ipython so I only analyzed the top 2  users because they were significantly different. Analysis of top user: the closest matching user had a Jaccard Distance of 0.62, meaning they only shared 38% of tags between themselves. The biggest difference was a Jaccard Distance of .98, only a 2% similarity. The Jaccard Distance between the top user and the second most active user is .93, only 7% similarity, which is why I decided to also analyze the Jaccard Distance for the second user. \n",
    "\n",
    "The second user covered a lot more tags than most people. But interestingly, the smallest Jaccard Distance was 0.82, only an 18% similarilty with most people. And some users actually had a distance of 1.0, meaning no overlap, or an insignificant amount. The second most active user probably answered many questions with similar but slightly different tags resulting in a larger number of total tags answered."
   ]
  },
  {
   "cell_type": "markdown",
   "metadata": {},
   "source": [
    "Let's plot a subset of the distance matrix. Order the pairwise distance in your distance matrix (excluding the entries along the diagonal) in increasing order and pick user pairs until you have 100 unique users. See [Lecture 3](https://github.com/datascience16/lectures/blob/master/Lecture3/Distance-Functions.ipynb) for examples. **(10 pts)**"
   ]
  },
  {
   "cell_type": "code",
   "execution_count": 4,
   "metadata": {
    "collapsed": false
   },
   "outputs": [
    {
     "data": {
      "text/plain": [
       "<matplotlib.axes._subplots.AxesSubplot at 0x9b14e6910>"
      ]
     },
     "execution_count": 4,
     "metadata": {},
     "output_type": "execute_result"
    },
    {
     "data": {
      "image/png": "[encoded data removed]",
      "text/plain": [
       "<matplotlib.figure.Figure at 0x9b14f3990>"
      ]
     },
     "metadata": {},
     "output_type": "display_data"
    }
   ],
   "source": [
    "import numpy as np\n",
    "import seaborn as sns\n",
    "import matplotlib.pyplot as plt\n",
    "%matplotlib inline\n",
    "\n",
    "similarities = dict()\n",
    "\n",
    "# makes a dictionary of jaccardDistance : the pair that has that jaccard distance\n",
    "for i in range(0, len(jaccardDistances)):\n",
    "    for j in range (0, len(jaccardDistances[0])):\n",
    "        if similarities.get(jaccardDistances[i][j]) is None:\n",
    "            similarities[jaccardDistances[i][j]] = [i,j]\n",
    "        else:\n",
    "            similarities.get(jaccardDistances[i][j]).append(i)\n",
    "            similarities.get(jaccardDistances[i][j]).append(j)\n",
    "\n",
    "            \n",
    "# remove duplicates\n",
    "keys = similarities.keys()\n",
    "for key in keys:\n",
    "    similarities[key] = set(similarities[key])\n",
    "    \n",
    "mostSimilar = set()\n",
    "\n",
    "# grab 100 most similar\n",
    "for i in range(1, len(keys)):\n",
    "    for entry in similarities[keys[i]]:\n",
    "        if len(mostSimilar) == 100:\n",
    "            break;\n",
    "        mostSimilar.add(entry)\n",
    "        \n",
    "mostSimilar = sorted(mostSimilar)\n",
    "\n",
    "distanceMatrix = []\n",
    "\n",
    "for entry in mostSimilar:\n",
    "    # make sure inputs are floats so they can be plotted properly.\n",
    "    distanceMatrix.append([(float)(jaccardDistances[entry][entry2]) for entry2 in mostSimilar])\n",
    "\n",
    "sns.heatmap(distanceMatrix, xticklabels=False, yticklabels=False, linewidths=0, square=True, cbar=False)"
   ]
  },
  {
   "cell_type": "markdown",
   "metadata": {},
   "source": [
    "Next, let's create some time series from the data. Look at the top 100 users with the most question posts. For each user, your time series will be the `CreationDate` of the questions posted by that user. You may want to make multiple time series for each user based on the first tag of the questions. Compare the time series using one of the methods discussed in class. Document your findings. **(30 pts)**\n",
    "\n",
    "You may find the [pandas.DataFrame.resample module](http://pandas.pydata.org/pandas-docs/stable/generated/pandas.DataFrame.resample.html) helpful."
   ]
  },
  {
   "cell_type": "markdown",
   "metadata": {},
   "source": [
    "Explanation of the following code segment:\n",
    "\n",
    "Euclidean Distance: Standard Euclidean Distance applied to arrays of size 12, 1 for each month.\n",
    "\n",
    "extractData2: parses the file and makes two dictionaries\n",
    "    1. UserId : questionIds that they are the author of\n",
    "    2. QuestionId : (creation date, first tag) where creation date is formatted into [year, month, day]\n",
    "    \n",
    "The first dictionary is transformed into a list of (count(number of questions), userId) and sorted from highest to lowest.\n",
    "\n",
    "From the top 100 of that last a dictionary of Tag : CreationDates is made, and transformed into a dictionary of Tag : Distribution of posts per month, formatted as [jan, feb, ..., nov, dec] with integers in each of the 12 spots. \n",
    "The euclidean distance function is applied to each pair of tags to form the distance matrix for our time series data."
   ]
  },
  {
   "cell_type": "code",
   "execution_count": 5,
   "metadata": {
    "collapsed": false
   },
   "outputs": [],
   "source": [
    "from operator import itemgetter\n",
    "import xml.etree.cElementTree as etree\n",
    "import operator\n",
    "import numpy as np\n",
    "\n",
    "def euclideanDistance(first, second):\n",
    "    summation = 0\n",
    "    for i in range(0, len(first)):\n",
    "        summation = summation + np.square(first[i] - second[i])\n",
    "    summation = float(summation)\n",
    "    return format(np.sqrt(summation), '.2f')\n",
    "\n",
    "def extractData2():\n",
    "    users = {}\n",
    "    questionToTimeAndTags = {}\n",
    "    \n",
    "    # assuming there exists a file \"stackoverflow-posts-2015.xml\" in the same directory as this file\n",
    "    tree = etree.parse('stackoverflow-posts-2015.xml')\n",
    "    root = tree.getroot()\n",
    "\n",
    "    '''\n",
    "    Populates a dictionary users with userId : (questions posted)\n",
    "    Populates a dictionary questionsToTimeAndtimes with their (creation date, tag) \n",
    "        formatted [[year, month, day],...], tag)\n",
    "    '''\n",
    "    for elem in root:\n",
    "        if elem.get('PostTypeId') == '1':\n",
    "            questionToTimeAndTags[elem.get('Id')] = (elem.get('CreationDate')[0:elem.get('CreationDate').index('T')].split('-'), elem.get('Tags')[1:elem.get('Tags').index('>')])\n",
    "            if users.get(elem.get('OwnerUserId')) is None:                \n",
    "                users[elem.get('OwnerUserId')] = [elem.get('Id')]\n",
    "            else:\n",
    "                users[elem.get('OwnerUserId')].append(elem.get('Id'))\n",
    "    \n",
    "    # a list of (number of question posts, userId)\n",
    "    users2 = []\n",
    "    for userId in users.keys():\n",
    "        users2.append( (len(users[userId]), userId) )\n",
    "    \n",
    "    # sort and take the top 100 userId's\n",
    "    users2 = sorted(users2, reverse=True)\n",
    "    top100 = []\n",
    "    for x in range(0,100):\n",
    "        top100.append(users2[x][1])\n",
    "    \n",
    "    # make a dictionary of tag : CreationDates for questions with that tag\n",
    "    for user in top100:\n",
    "        for question in users[user]:\n",
    "            if tagsCreationDates.get(questionToTimeAndTags[question][1]) is None:\n",
    "                tagsCreationDates[questionToTimeAndTags[question][1]] = [questionToTimeAndTags[question][0]]\n",
    "            else:\n",
    "                tagsCreationDates[questionToTimeAndTags[question][1]].append(questionToTimeAndTags[question][0])\n",
    "    \n",
    "    # create a distribution for each tag with how many posts a month there were for that tag\n",
    "    for tag in tagsCreationDates:\n",
    "        distribution = [0 for x in range(0,12)]\n",
    "        for dates in tagsCreationDates[tag]:\n",
    "            distribution[int(dates[1]) - 1] = distribution[int(dates[1]) - 1] + 1\n",
    "        tagsCreationDates[tag] = distribution\n",
    "\n",
    "    # make the distance matrix out of euclidean distances\n",
    "    keys = tagsCreationDates.keys()\n",
    "    for tags in keys:\n",
    "        euclideanDistances.append([euclideanDistance(tagsCreationDates[tags], tagsCreationDates[otherTags]) for otherTags in keys])\n",
    "\n",
    "euclideanDistances = []\n",
    "tagsCreationDates = {}\n",
    "extractData2()\n"
   ]
  },
  {
   "cell_type": "markdown",
   "metadata": {},
   "source": [
    "Analysis of the results:\n",
    "\n",
    "There were a lot of very similar results according to the Euclidean Distance formula, but after taking a look at the actual dates the problem was that many tags only had 1 or 2 questions associated with them a year. These small tags are all similar to each other when using this as a metric and will be 'far apart' from anything with any of the other results. When plotting the data in the next part I will filter out all tags that don't have many posts just to get rid of these outliers. The Euclidean Distance for a well-populated tag means a lot more than a tag that is used once or twice."
   ]
  },
  {
   "cell_type": "markdown",
   "metadata": {},
   "source": [
    "Plot the 2 most similar and the 2 most different time series. **(10 pts)**"
   ]
  },
  {
   "cell_type": "code",
   "execution_count": 6,
   "metadata": {
    "collapsed": false
   },
   "outputs": [
    {
     "name": "stdout",
     "output_type": "stream",
     "text": [
      "2 Most Similar Time Series\n",
      "['ruby-on-rails', 'html'] with Euclidean Distance = 90.58\n",
      "[118, 51, 75, 87, 94, 152, 95, 65, 67, 59, 32, 64]\n",
      "[81, 56, 72, 109, 95, 93, 72, 84, 97, 62, 58, 45]\n"
     ]
    },
    {
     "data": {
      "image/png": "[encoded data removed]",
      "text/plain": [
       "<matplotlib.figure.Figure at 0x992a0ac50>"
      ]
     },
     "metadata": {},
     "output_type": "display_data"
    },
    {
     "name": "stdout",
     "output_type": "stream",
     "text": [
      "2 Most Different Time Series\n",
      "['javascript', 'ios'] with Euclidean Distance = 1034.26\n",
      "[435, 473, 457, 531, 460, 468, 606, 521, 502, 443, 388, 351]\n",
      "[187, 172, 206, 230, 205, 145, 137, 158, 257, 186, 156, 100]\n"
     ]
    },
    {
     "data": {
      "image/png": "[encoded data removed]",
      "text/plain": [
       "<matplotlib.figure.Figure at 0x956a93d10>"
      ]
     },
     "metadata": {},
     "output_type": "display_data"
    }
   ],
   "source": [
    "import itertools\n",
    "import matplotlib.pyplot as plt\n",
    "import pandas as pd\n",
    "import numpy as np\n",
    "import datetime\n",
    "from matplotlib.dates import MonthLocator, DateFormatter\n",
    "\n",
    "%matplotlib inline\n",
    "\n",
    "def summation(inputList):\n",
    "    total = 0\n",
    "    for num in inputList:\n",
    "        total = total + num\n",
    "    return total\n",
    "\n",
    "newTagsAndDates = {}\n",
    "\n",
    "# get rid of tags that weren't the first tag in more than 250 posts (number picked by checking the set of leftover tags i.e. newTagsAndDates)\n",
    "for tag in tagsCreationDates:\n",
    "    if summation(tagsCreationDates[tag]) >= 500:\n",
    "        newTagsAndDates[tag] = tagsCreationDates[tag]\n",
    "\n",
    "newEuclideanDistances = []\n",
    "\n",
    "# make the distance matrix out of euclidean distances\n",
    "keys = newTagsAndDates.keys()\n",
    "for tags in keys:\n",
    "    newEuclideanDistances.append( tuple([euclideanDistance(newTagsAndDates[tags], newTagsAndDates[otherTags]), (tags, otherTags)]  for otherTags in keys))\n",
    "\n",
    "similarities2 = {}\n",
    "\n",
    "# makes a dictionary of euclidean distance value : (tag1, tag2)\n",
    "for tuples in newEuclideanDistances:\n",
    "    for pair in tuples:\n",
    "        if similarities2.get(pair[0]) is None:\n",
    "            similarities2[pair[0]] = []\n",
    "            similarities2[pair[0]].append(pair[1])\n",
    "        else:\n",
    "            similarities2.get(pair[0]).append(pair[1])\n",
    "            \n",
    "allKeys = similarities2.keys()\n",
    "# remove duplicates\n",
    "keys = similarities2.keys()\n",
    "for key in keys:\n",
    "    similarities2[key].sort()\n",
    "    list(similarities2[key] for similarities2[key],_ in itertools.groupby(similarities2[key]))\n",
    "\n",
    "# remove all the entries with distance 0.0, all comparisons that are the same\n",
    "del similarities2[min(list(similarities2))]\n",
    "    \n",
    "minDistance = min(list(similarities2))\n",
    "mins = list(similarities2[min(list(similarities2))])\n",
    "\n",
    "maxs = list(similarities2[max(list(similarities2))])\n",
    "maxDistance = max(list(similarities2))\n",
    "\n",
    "dates = [datetime.date(2015, 1, 1), datetime.date(2015,2,1), datetime.date(2015,3,1), datetime.date(2015,4,1), datetime.date(2015,5,1), datetime.date(2015,6,1), \n",
    "         datetime.date(2015,7,1), datetime.date(2015,8,1), datetime.date(2015,9,1), datetime.date(2015,10,1), datetime.date(2015,11,1), datetime.date(2015,12,1)]\n",
    "\n",
    "'''\n",
    "Plots the 2 most similar time series data sets on one graph\n",
    "'''\n",
    "def plotSimilar():\n",
    "    print '2 Most Similar Time Series'\n",
    "    print str(maxs) + ' with Euclidean Distance = ' + str(maxDistance)\n",
    "    print newTagsAndDates[maxs[0]]\n",
    "    print newTagsAndDates[maxs[1]]\n",
    "    months = MonthLocator(range(1, 13), bymonthday=1, interval=1)\n",
    "    monthsFmt = DateFormatter(\"%b\")\n",
    "    fig, ax = plt.subplots()\n",
    "    ax.plot_date(dates, newTagsAndDates[maxs[0]], '-', label=maxs[0])\n",
    "    ax.plot_date(dates, newTagsAndDates[maxs[1]], '-', label=maxs[1])\n",
    "    ax.xaxis.set_major_locator(months)\n",
    "    ax.xaxis.set_major_formatter(monthsFmt)\n",
    "    ax.autoscale_view()\n",
    "    fig.autofmt_xdate()\n",
    "    plt.legend(loc='best')\n",
    "    plt.show()\n",
    "    \n",
    "plotSimilar()\n",
    "\n",
    "\n",
    "'''\n",
    "Plots the 2 most different time series data sets on one graph\n",
    "'''\n",
    "def plotDifferent():\n",
    "    print '2 Most Different Time Series'\n",
    "    print str(mins) + ' with Euclidean Distance = ' + str(minDistance)\n",
    "    print newTagsAndDates[mins[0]]\n",
    "    print newTagsAndDates[mins[1]]\n",
    "    months = MonthLocator(range(1, 13), bymonthday=1, interval=1)\n",
    "    monthsFmt = DateFormatter(\"%b\")\n",
    "    fig, ax = plt.subplots()\n",
    "    ax.plot_date(dates, newTagsAndDates[mins[0]], '-', label=mins[0])\n",
    "    ax.plot_date(dates, newTagsAndDates[mins[1]], '-', label=mins[1])\n",
    "    ax.xaxis.set_major_locator(months)\n",
    "    ax.xaxis.set_major_formatter(monthsFmt)\n",
    "    ax.autoscale_view()\n",
    "    fig.autofmt_xdate()\n",
    "    plt.legend(loc='best')\n",
    "    plt.show()\n",
    "    \n",
    "plotDifferent()"
   ]
  },
  {
   "cell_type": "markdown",
   "metadata": {},
   "source": [
    "Anaylsis of graphs:\n",
    "\n",
    "Confirming what was covered in lecture, Euclidean distance doesn't do well to represent time series data, instead of focusing more on the pattern on the data it instead focuses on the distance between the 2 graphs. So something like ios which has few number of posts will be far from javascript which gets a significant amount more. If I had more time I would implement a different metric, such as Dynamic Time Warping, to focus more on the shift in the graph rather than the distance. "
   ]
  },
  {
   "cell_type": "code",
   "execution_count": 8,
   "metadata": {
    "collapsed": false
   },
   "outputs": [
    {
     "data": {
      "text/html": [
       "<link href='http://fonts.googleapis.com/css?family=EB+Garamond' rel='stylesheet' type='text/css'>\r\n",
       "<link href='http://fonts.googleapis.com/css?family=Alegreya+Sans:100,300,400,500,700,800,900,100italic,300italic,400italic,500italic,700italic,800italic,900italic' rel='stylesheet' type='text/css'>\r\n",
       "<link href='http://fonts.googleapis.com/css?family=Source+Code+Pro:300,400' rel='stylesheet' type='text/css'>\r\n",
       "<style>\r\n",
       "    @font-face {\r\n",
       "        font-family: \"Computer Modern\";\r\n",
       "        src: url('http://mirrors.ctan.org/fonts/cm-unicode/fonts/otf/cmunss.otf');\r\n",
       "    }\r\n",
       "    .code_cell {\r\n",
       "        width: 105ex !important ;\r\n",
       "        margin-bottom: 15px !important;\r\n",
       "    }\r\n",
       "    div.cell {\r\n",
       "        margin-left: auto;\r\n",
       "        margin-right: auto;\r\n",
       "        width: 70%;\r\n",
       "    }    \r\n",
       "    div.cell.selected {\r\n",
       "        border: thin rgba(171, 171, 171, 0.5) dashed;\r\n",
       "    }\r\n",
       "    h1 {\r\n",
       "        font-family: 'Alegreya Sans', sans-serif;\r\n",
       "    }\r\n",
       "    h2 {\r\n",
       "        font-family: 'EB Garamond', serif;\r\n",
       "    }\r\n",
       "    h3 {\r\n",
       "        font-family: 'EB Garamond', serif;\r\n",
       "        margin-top:12px;\r\n",
       "        margin-bottom: 3px;\r\n",
       "    }\r\n",
       "    h4 {\r\n",
       "        font-family: 'EB Garamond', serif;\r\n",
       "    }\r\n",
       "    h5 {\r\n",
       "        font-family: 'Alegreya Sans', sans-serif;\r\n",
       "    }\r\n",
       "    div.text_cell_render {\r\n",
       "        font-family: 'EB Garamond',Computer Modern, \"Helvetica Neue\", Arial, Helvetica, Geneva, sans-serif;\r\n",
       "        line-height: 145%;\r\n",
       "        font-size: 140%;\r\n",
       "    }\r\n",
       "    div.input_area {\r\n",
       "        border-color: rgba(0,0,0,0.10) !important;\r\n",
       "        background: #fafafa;\r\n",
       "    }\r\n",
       "    .CodeMirror {\r\n",
       "            font-family: \"Source Code Pro\";\r\n",
       "            font-size: 90%;\r\n",
       "    }\r\n",
       "    .prompt {\r\n",
       "        display: None;\r\n",
       "    }\r\n",
       "    .output {\r\n",
       "        padding-left: 50px;\r\n",
       "        padding-top: 5px;\r\n",
       "    }\r\n",
       "    .output_wrapper {\r\n",
       "        padding-left: 5px;\r\n",
       "        padding-top: inherit;\r\n",
       "    }\r\n",
       "    div.output_scroll {\r\n",
       "        width: inherit;\r\n",
       "    }\r\n",
       "    .inner_cell {\r\n",
       "        padding-left: 5px;\r\n",
       "    }\r\n",
       "    .text_cell_render h1 {\r\n",
       "        font-weight: 200;\r\n",
       "        font-size: 50pt;\r\n",
       "        line-height: 100%;\r\n",
       "        color:#CD2305;\r\n",
       "        margin-bottom: 0.5em;\r\n",
       "        margin-top: 0.5em;\r\n",
       "        display: block;\r\n",
       "    }\r\n",
       "    .text_cell_render h5 {\r\n",
       "        font-weight: 300;\r\n",
       "        font-size: 16pt;\r\n",
       "        color: #CD2305;\r\n",
       "        font-style: italic;\r\n",
       "        margin-bottom: .5em;\r\n",
       "        margin-top: 0.5em;\r\n",
       "        display: block;\r\n",
       "    }\r\n",
       "    .warning {\r\n",
       "        color: rgb( 240, 20, 20 )\r\n",
       "        }  \r\n",
       "</style>\r\n",
       "<script>\r\n",
       "    MathJax.Hub.Config({\r\n",
       "                        TeX: {\r\n",
       "                           extensions: [\"AMSmath.js\"]\r\n",
       "                           },\r\n",
       "                tex2jax: {\r\n",
       "                    inlineMath: [ ['$','$'], [\"\\\\(\",\"\\\\)\"] ],\r\n",
       "                    displayMath: [ ['$$','$$'], [\"\\\\[\",\"\\\\]\"] ]\r\n",
       "                },\r\n",
       "                displayAlign: 'center', // Change this to 'center' to center equations.\r\n",
       "                \"HTML-CSS\": {\r\n",
       "                    styles: {'.MathJax_Display': {\"margin\": 4}}\r\n",
       "                }\r\n",
       "        });\r\n",
       "</script>"
      ],
      "text/plain": [
       "<IPython.core.display.HTML object>"
      ]
     },
     "execution_count": 8,
     "metadata": {},
     "output_type": "execute_result"
    }
   ],
   "source": [
    "# Code for setting the style of the notebook\n",
    "from IPython.core.display import HTML\n",
    "def css_styling():\n",
    "    styles = open(\"./custom.css\", \"r\").read()\n",
    "    return HTML(styles)\n",
    "css_styling()"
   ]
  },
  {
   "cell_type": "code",
   "execution_count": null,
   "metadata": {
    "collapsed": true
   },
   "outputs": [],
   "source": []
  }
 ],
 "metadata": {
  "kernelspec": {
   "display_name": "Python 2",
   "language": "python",
   "name": "python2"
  },
  "language_info": {
   "codemirror_mode": {
    "name": "ipython",
    "version": 2
   },
   "file_extension": ".py",
   "mimetype": "text/x-python",
   "name": "python",
   "nbconvert_exporter": "python",
   "pygments_lexer": "ipython2",
   "version": "2.7.11"
  }
 },
 "nbformat": 4,
 "nbformat_minor": 0
}
